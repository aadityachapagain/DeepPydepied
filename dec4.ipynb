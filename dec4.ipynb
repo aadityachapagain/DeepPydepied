{
 "cells": [
  {
   "cell_type": "code",
   "execution_count": 12,
   "metadata": {},
   "outputs": [
    {
     "data": {
      "text/plain": [
       "{'__name__': '__main__',\n",
       " '__doc__': 'Automatically created module for IPython interactive environment',\n",
       " '__package__': None,\n",
       " '__loader__': None,\n",
       " '__spec__': None,\n",
       " '__builtin__': <module 'builtins' (built-in)>,\n",
       " '__builtins__': <module 'builtins' (built-in)>,\n",
       " '_ih': ['',\n",
       "  'vars',\n",
       "  \"class collector:\\n\\n  def __init__(self, name, age):\\n    self.age = age\\n    self.name = name\\n  \\n\\n  def __repr__(self):\\n    return 'Person({})'.format(','.join(f'{key}={value}' for key, value in vars(self).items()))\",\n",
       "  \"class Collector:\\n\\n  def __init__(self, name, age):\\n    self.age = age\\n    self.name = name\\n  \\n\\n  def __repr__(self):\\n    return 'Person({})'.format(','.join(f'{key}={value}' for key, value in vars(self).items()))\",\n",
       "  'Collector',\n",
       "  'print(Collector)',\n",
       "  \"class Collector:\\n\\n  def __init__(self, name, age, minerals):\\n    self.age = age\\n    self.name = name\\n    self.minerals = minerals\\n  \\n\\n  def __repr__(self):\\n    return 'Person({})'.format(','.join(f'{key}={value}' for key, value in vars(self).items()))\",\n",
       "  \"class Collector:\\n\\n  def __init__(self, name, age, minerals):\\n    self.age = age\\n    self.name = name\\n    self.minerals = minerals\\n  \\n\\n  def __repr__(self):\\n    return 'Collector ({})'.format(','.join(f'{key}={value}' for key, value in vars(self).items()))\",\n",
       "  'Collector',\n",
       "  \"ruby = Collector('Aiko',21,'ruby')\\nruby\",\n",
       "  \"ruby = Collector('Aiko',21,'ruby')\\nruby\",\n",
       "  'ruby.vars',\n",
       "  'vars()'],\n",
       " '_oh': {1: <function vars>,\n",
       "  4: __main__.Collector,\n",
       "  8: __main__.Collector,\n",
       "  9: Collector (age=21,name=Aiko,minerals=ruby),\n",
       "  10: Collector (age=21,name=Aiko,minerals=ruby)},\n",
       " '_dh': ['F:\\\\DeepPydepied'],\n",
       " 'In': ['',\n",
       "  'vars',\n",
       "  \"class collector:\\n\\n  def __init__(self, name, age):\\n    self.age = age\\n    self.name = name\\n  \\n\\n  def __repr__(self):\\n    return 'Person({})'.format(','.join(f'{key}={value}' for key, value in vars(self).items()))\",\n",
       "  \"class Collector:\\n\\n  def __init__(self, name, age):\\n    self.age = age\\n    self.name = name\\n  \\n\\n  def __repr__(self):\\n    return 'Person({})'.format(','.join(f'{key}={value}' for key, value in vars(self).items()))\",\n",
       "  'Collector',\n",
       "  'print(Collector)',\n",
       "  \"class Collector:\\n\\n  def __init__(self, name, age, minerals):\\n    self.age = age\\n    self.name = name\\n    self.minerals = minerals\\n  \\n\\n  def __repr__(self):\\n    return 'Person({})'.format(','.join(f'{key}={value}' for key, value in vars(self).items()))\",\n",
       "  \"class Collector:\\n\\n  def __init__(self, name, age, minerals):\\n    self.age = age\\n    self.name = name\\n    self.minerals = minerals\\n  \\n\\n  def __repr__(self):\\n    return 'Collector ({})'.format(','.join(f'{key}={value}' for key, value in vars(self).items()))\",\n",
       "  'Collector',\n",
       "  \"ruby = Collector('Aiko',21,'ruby')\\nruby\",\n",
       "  \"ruby = Collector('Aiko',21,'ruby')\\nruby\",\n",
       "  'ruby.vars',\n",
       "  'vars()'],\n",
       " 'Out': {1: <function vars>,\n",
       "  4: __main__.Collector,\n",
       "  8: __main__.Collector,\n",
       "  9: Collector (age=21,name=Aiko,minerals=ruby),\n",
       "  10: Collector (age=21,name=Aiko,minerals=ruby)},\n",
       " 'get_ipython': <bound method InteractiveShell.get_ipython of <ipykernel.zmqshell.ZMQInteractiveShell object at 0x0000015BB4722FD0>>,\n",
       " 'exit': <IPython.core.autocall.ZMQExitAutocall at 0x15bb4774898>,\n",
       " 'quit': <IPython.core.autocall.ZMQExitAutocall at 0x15bb4774898>,\n",
       " '_': Collector (age=21,name=Aiko,minerals=ruby),\n",
       " '__': Collector (age=21,name=Aiko,minerals=ruby),\n",
       " '___': __main__.Collector,\n",
       " '_i': 'ruby.vars',\n",
       " '_ii': \"ruby = Collector('Aiko',21,'ruby')\\nruby\",\n",
       " '_iii': \"ruby = Collector('Aiko',21,'ruby')\\nruby\",\n",
       " '_i1': 'vars',\n",
       " '_1': <function vars>,\n",
       " '_i2': \"class collector:\\n\\n  def __init__(self, name, age):\\n    self.age = age\\n    self.name = name\\n  \\n\\n  def __repr__(self):\\n    return 'Person({})'.format(','.join(f'{key}={value}' for key, value in vars(self).items()))\",\n",
       " 'collector': __main__.collector,\n",
       " '_i3': \"class Collector:\\n\\n  def __init__(self, name, age):\\n    self.age = age\\n    self.name = name\\n  \\n\\n  def __repr__(self):\\n    return 'Person({})'.format(','.join(f'{key}={value}' for key, value in vars(self).items()))\",\n",
       " 'Collector': __main__.Collector,\n",
       " '_i4': 'Collector',\n",
       " '_4': __main__.Collector,\n",
       " '_i5': 'print(Collector)',\n",
       " '_i6': \"class Collector:\\n\\n  def __init__(self, name, age, minerals):\\n    self.age = age\\n    self.name = name\\n    self.minerals = minerals\\n  \\n\\n  def __repr__(self):\\n    return 'Person({})'.format(','.join(f'{key}={value}' for key, value in vars(self).items()))\",\n",
       " '_i7': \"class Collector:\\n\\n  def __init__(self, name, age, minerals):\\n    self.age = age\\n    self.name = name\\n    self.minerals = minerals\\n  \\n\\n  def __repr__(self):\\n    return 'Collector ({})'.format(','.join(f'{key}={value}' for key, value in vars(self).items()))\",\n",
       " '_i8': 'Collector',\n",
       " '_8': __main__.Collector,\n",
       " '_i9': \"ruby = Collector('Aiko',21,'ruby')\\nruby\",\n",
       " 'ruby': Collector (age=21,name=Aiko,minerals=ruby),\n",
       " '_9': Collector (age=21,name=Aiko,minerals=ruby),\n",
       " '_i10': \"ruby = Collector('Aiko',21,'ruby')\\nruby\",\n",
       " '_10': Collector (age=21,name=Aiko,minerals=ruby),\n",
       " '_i11': 'ruby.vars',\n",
       " '_i12': 'vars()'}"
      ]
     },
     "execution_count": 12,
     "metadata": {},
     "output_type": "execute_result"
    }
   ],
   "source": [
    "vars()"
   ]
  },
  {
   "cell_type": "code",
   "execution_count": 7,
   "metadata": {},
   "outputs": [],
   "source": [
    "class Collector:\n",
    "\n",
    "  def __init__(self, name, age, minerals):\n",
    "    self.age = age\n",
    "    self.name = name\n",
    "    self.minerals = minerals\n",
    "  \n",
    "\n",
    "  def __repr__(self):\n",
    "    return 'Collector ({})'.format(','.join(f'{key}={value}' for key, value in vars(self).items()))\n"
   ]
  },
  {
   "cell_type": "code",
   "execution_count": 8,
   "metadata": {},
   "outputs": [
    {
     "data": {
      "text/plain": [
       "__main__.Collector"
      ]
     },
     "execution_count": 8,
     "metadata": {},
     "output_type": "execute_result"
    }
   ],
   "source": [
    "Collector"
   ]
  },
  {
   "cell_type": "code",
   "execution_count": 10,
   "metadata": {},
   "outputs": [
    {
     "data": {
      "text/plain": [
       "Collector (age=21,name=Aiko,minerals=ruby)"
      ]
     },
     "execution_count": 10,
     "metadata": {},
     "output_type": "execute_result"
    }
   ],
   "source": [
    "ruby = Collector('Aiko',21,'ruby')\n",
    "ruby"
   ]
  },
  {
   "cell_type": "code",
   "execution_count": 14,
   "metadata": {},
   "outputs": [
    {
     "data": {
      "text/plain": [
       "{'age': 21, 'name': 'Aiko', 'minerals': 'ruby'}"
      ]
     },
     "execution_count": 14,
     "metadata": {},
     "output_type": "execute_result"
    }
   ],
   "source": [
    "vars(ruby)"
   ]
  },
  {
   "cell_type": "code",
   "execution_count": 15,
   "metadata": {},
   "outputs": [
    {
     "data": {
      "text/plain": [
       "mappingproxy({'__module__': '__main__',\n",
       "              '__init__': <function __main__.Collector.__init__(self, name, age, minerals)>,\n",
       "              '__repr__': <function __main__.Collector.__repr__(self)>,\n",
       "              '__dict__': <attribute '__dict__' of 'Collector' objects>,\n",
       "              '__weakref__': <attribute '__weakref__' of 'Collector' objects>,\n",
       "              '__doc__': None})"
      ]
     },
     "execution_count": 15,
     "metadata": {},
     "output_type": "execute_result"
    }
   ],
   "source": [
    "vars(Collector)"
   ]
  },
  {
   "cell_type": "code",
   "execution_count": 16,
   "metadata": {},
   "outputs": [
    {
     "data": {
      "text/plain": [
       "{'age': 21, 'name': 'Aiko', 'minerals': 'ruby'}"
      ]
     },
     "execution_count": 16,
     "metadata": {},
     "output_type": "execute_result"
    }
   ],
   "source": [
    "ruby.__dict__"
   ]
  },
  {
   "cell_type": "code",
   "execution_count": 17,
   "metadata": {},
   "outputs": [
    {
     "data": {
      "text/plain": [
       "True"
      ]
     },
     "execution_count": 17,
     "metadata": {},
     "output_type": "execute_result"
    }
   ],
   "source": [
    "ruby.__dict__ == vars(ruby)\n",
    "# so this tells what \n",
    "# does it ttells that vars is just another implementation of object.__dict__"
   ]
  },
  {
   "cell_type": "code",
   "execution_count": null,
   "metadata": {},
   "outputs": [],
   "source": []
  }
 ],
 "metadata": {
  "kernelspec": {
   "display_name": "Python 3",
   "language": "python",
   "name": "python3"
  },
  "language_info": {
   "codemirror_mode": {
    "name": "ipython",
    "version": 3
   },
   "file_extension": ".py",
   "mimetype": "text/x-python",
   "name": "python",
   "nbconvert_exporter": "python",
   "pygments_lexer": "ipython3",
   "version": "3.6.5"
  }
 },
 "nbformat": 4,
 "nbformat_minor": 2
}
