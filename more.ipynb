{
 "cells": [
  {
   "cell_type": "code",
   "execution_count": 1,
   "metadata": {},
   "outputs": [
    {
     "data": {
      "text/plain": [
       "' \\nLets dive into magic pythonic world \\nhey,,, yehhhhhhh\\n'"
      ]
     },
     "execution_count": 1,
     "metadata": {},
     "output_type": "execute_result"
    }
   ],
   "source": [
    "\"\"\" \n",
    "Lets dive into magic pythonic world \n",
    "hey,,, yehhhhhhh\n",
    "\"\"\""
   ]
  },
  {
   "cell_type": "code",
   "execution_count": 5,
   "metadata": {},
   "outputs": [],
   "source": [
    "# python objects are great they provide clean super super clean api with\n",
    "# kinda greater of great functionality\n",
    "\n",
    "class Class(object):\n",
    "    def __init__(self):\n",
    "        self.__attribute = None\n",
    "\n",
    "    def __getattribute(self):\n",
    "        return self.__attribute\n",
    "\n",
    "    def __setattribute(self, value):\n",
    "        self.__attribute = value\n",
    "\n",
    "    def __delattribute(self):\n",
    "        print (\"You can't delete attribute.\")\n",
    "\n",
    "    attribute = property(\n",
    "        fget = __getattribute,\n",
    "        fset = __setattribute,\n",
    "        fdel = __delattribute,\n",
    "        doc = \"Some docstring\"\n",
    "    )"
   ]
  },
  {
   "cell_type": "code",
   "execution_count": 8,
   "metadata": {},
   "outputs": [],
   "source": [
    "# ugglly nigga ugly \n",
    "# your code looks ugly and high  chance of getting bugs as it grow larger \n",
    "# hmmm lets do some hack then\n",
    "# what about if we create meta class which actually bind the properits  to the class \n",
    "# at the prior to the class creation ,thats why i say meta class is't it ?\n",
    "# well now get back to work"
   ]
  },
  {
   "cell_type": "code",
   "execution_count": 37,
   "metadata": {},
   "outputs": [],
   "source": [
    "class __properties__(type):\n",
    "\n",
    "    def __new__(meta, classname, bases, classDict):\n",
    "        print('classDict : '+classDict)\n",
    "        names = set()\n",
    "        propertyDict = {\n",
    "            'doc': {},\n",
    "            'get': {},\n",
    "            'set': {},\n",
    "            'del': {}\n",
    "        }\n",
    "        newClassDict = {}\n",
    "\n",
    "        importantNames = set(['del_', 'doc_', 'get_', 'set_'])\n",
    "        for name, item in classDict.items():\n",
    "            if name[:4] in importantNames and len(name) > 4:\n",
    "                propertyName = name[4:]\n",
    "                names.add(propertyName)\n",
    "                propertyDict[name[:3]][propertyName] = item\n",
    "\n",
    "            else:\n",
    "                newClassDict[name] = item\n",
    "\n",
    "        for name in names:\n",
    "            fget = propertyDict['get'].get(name)\n",
    "            fset = propertyDict['set'].get(name)\n",
    "            fdel = propertyDict['del'].get(name)\n",
    "            doc = propertyDict['doc'].get(name)\n",
    "            newClassDict[name] = property(fget=fget, fset=fset,\n",
    "                                          fdel=fdel, doc=doc)\n",
    "        return type.__new__(meta, classname, bases, newClassDict)\n",
    "\n",
    "class WithProperties(object):\n",
    "    __metaclass__ = __properties__"
   ]
  },
  {
   "cell_type": "code",
   "execution_count": 32,
   "metadata": {},
   "outputs": [],
   "source": [
    "# now see this in live action \n",
    "# warning it might hurt you , if you have heart problem  just dont rush \n",
    "# take slowely yalap yalap yalap"
   ]
  },
  {
   "cell_type": "code",
   "execution_count": 38,
   "metadata": {},
   "outputs": [],
   "source": [
    "class Test(WithProperties):\n",
    "\n",
    "    def __init__(self):\n",
    "        self.__test = 3\n",
    "        self.__readonly = 2\n",
    "\n",
    "    def get_test(self):\n",
    "        print ('Getting test')\n",
    "        return self.__test\n",
    "\n",
    "    def set_test(self, value):\n",
    "        print ('Setting test')\n",
    "        self.__test = value\n",
    "\n",
    "    def del_test(self):\n",
    "        print ('Attempting to delete test')\n",
    "\n",
    "    doc_test = \"Docstring for test property\"\n",
    "\n",
    "    doc_readonly = \"a read only property\"\n",
    "\n",
    "    def get_readonly(self):\n",
    "        print ('Getting readonly')\n",
    "        return self.__readonly"
   ]
  },
  {
   "cell_type": "code",
   "execution_count": 39,
   "metadata": {},
   "outputs": [
    {
     "data": {
      "text/plain": [
       "type"
      ]
     },
     "execution_count": 39,
     "metadata": {},
     "output_type": "execute_result"
    }
   ],
   "source": [
    "# take time to be sure \n",
    "type(Test)"
   ]
  },
  {
   "cell_type": "code",
   "execution_count": 40,
   "metadata": {},
   "outputs": [
    {
     "data": {
      "text/plain": [
       "['__class__',\n",
       " '__delattr__',\n",
       " '__dict__',\n",
       " '__dir__',\n",
       " '__doc__',\n",
       " '__eq__',\n",
       " '__format__',\n",
       " '__ge__',\n",
       " '__getattribute__',\n",
       " '__gt__',\n",
       " '__hash__',\n",
       " '__init__',\n",
       " '__init_subclass__',\n",
       " '__le__',\n",
       " '__lt__',\n",
       " '__metaclass__',\n",
       " '__module__',\n",
       " '__ne__',\n",
       " '__new__',\n",
       " '__reduce__',\n",
       " '__reduce_ex__',\n",
       " '__repr__',\n",
       " '__setattr__',\n",
       " '__sizeof__',\n",
       " '__str__',\n",
       " '__subclasshook__',\n",
       " '__weakref__',\n",
       " 'del_test',\n",
       " 'doc_readonly',\n",
       " 'doc_test',\n",
       " 'get_readonly',\n",
       " 'get_test',\n",
       " 'set_test']"
      ]
     },
     "execution_count": 40,
     "metadata": {},
     "output_type": "execute_result"
    }
   ],
   "source": [
    "dir(Test)"
   ]
  },
  {
   "cell_type": "code",
   "execution_count": 42,
   "metadata": {},
   "outputs": [],
   "source": [
    "tst = Test()"
   ]
  },
  {
   "cell_type": "code",
   "execution_count": 43,
   "metadata": {},
   "outputs": [
    {
     "data": {
      "text/plain": [
       "mappingproxy({'__module__': '__main__',\n",
       "              '__init__': <function __main__.Test.__init__(self)>,\n",
       "              'get_test': <function __main__.Test.get_test(self)>,\n",
       "              'set_test': <function __main__.Test.set_test(self, value)>,\n",
       "              'del_test': <function __main__.Test.del_test(self)>,\n",
       "              'doc_test': 'Docstring for test property',\n",
       "              'doc_readonly': 'a read only property',\n",
       "              'get_readonly': <function __main__.Test.get_readonly(self)>,\n",
       "              '__doc__': None})"
      ]
     },
     "execution_count": 43,
     "metadata": {},
     "output_type": "execute_result"
    }
   ],
   "source": [
    "Test.__dict__"
   ]
  },
  {
   "cell_type": "code",
   "execution_count": 44,
   "metadata": {},
   "outputs": [
    {
     "data": {
      "text/plain": [
       "{'_Test__test': 3, '_Test__readonly': 2}"
      ]
     },
     "execution_count": 44,
     "metadata": {},
     "output_type": "execute_result"
    }
   ],
   "source": [
    "tst.__dict__"
   ]
  },
  {
   "cell_type": "code",
   "execution_count": 45,
   "metadata": {},
   "outputs": [
    {
     "ename": "AttributeError",
     "evalue": "'Test' object has no attribute '__test'",
     "output_type": "error",
     "traceback": [
      "\u001b[1;31m---------------------------------------------------------------------------\u001b[0m",
      "\u001b[1;31mAttributeError\u001b[0m                            Traceback (most recent call last)",
      "\u001b[1;32m<ipython-input-45-3e492a3d5826>\u001b[0m in \u001b[0;36m<module>\u001b[1;34m()\u001b[0m\n\u001b[1;32m----> 1\u001b[1;33m \u001b[0mtst\u001b[0m\u001b[1;33m.\u001b[0m\u001b[0m__test\u001b[0m\u001b[1;33m\u001b[0m\u001b[0m\n\u001b[0m",
      "\u001b[1;31mAttributeError\u001b[0m: 'Test' object has no attribute '__test'"
     ]
    }
   ],
   "source": [
    "tst.__test"
   ]
  },
  {
   "cell_type": "code",
   "execution_count": null,
   "metadata": {},
   "outputs": [],
   "source": []
  }
 ],
 "metadata": {
  "kernelspec": {
   "display_name": "Python 3",
   "language": "python",
   "name": "python3"
  },
  "language_info": {
   "codemirror_mode": {
    "name": "ipython",
    "version": 3
   },
   "file_extension": ".py",
   "mimetype": "text/x-python",
   "name": "python",
   "nbconvert_exporter": "python",
   "pygments_lexer": "ipython3",
   "version": "3.6.5"
  }
 },
 "nbformat": 4,
 "nbformat_minor": 2
}
