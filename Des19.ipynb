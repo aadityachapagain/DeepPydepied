{
 "cells": [
  {
   "cell_type": "code",
   "execution_count": 1,
   "metadata": {},
   "outputs": [],
   "source": [
    "# well i see lots of questions in stackoverflow about context \n",
    "# context Manager in python and their usage \n",
    "# and what if we use open() function in python and never close it \n",
    "# so i will try to explain it in here in easy to understandable way "
   ]
  },
  {
   "cell_type": "code",
   "execution_count": 3,
   "metadata": {},
   "outputs": [
    {
     "ename": "FileNotFoundError",
     "evalue": "[Errno 2] No such file or directory: 'what_are_context_managers.txt'",
     "output_type": "error",
     "traceback": [
      "\u001b[1;31m---------------------------------------------------------------------------\u001b[0m",
      "\u001b[1;31mFileNotFoundError\u001b[0m                         Traceback (most recent call last)",
      "\u001b[1;32m<ipython-input-3-6ed79b39f6c4>\u001b[0m in \u001b[0;36m<module>\u001b[1;34m()\u001b[0m\n\u001b[0;32m      2\u001b[0m \u001b[1;31m# context so what is context actually ?\u001b[0m\u001b[1;33m\u001b[0m\u001b[1;33m\u001b[0m\u001b[0m\n\u001b[0;32m      3\u001b[0m \u001b[1;33m\u001b[0m\u001b[0m\n\u001b[1;32m----> 4\u001b[1;33m \u001b[1;32mwith\u001b[0m \u001b[0mopen\u001b[0m\u001b[1;33m(\u001b[0m\u001b[1;34m'what_are_context_managers.txt'\u001b[0m\u001b[1;33m,\u001b[0m\u001b[1;34m'r'\u001b[0m\u001b[1;33m)\u001b[0m \u001b[1;32mas\u001b[0m \u001b[0mfp\u001b[0m\u001b[1;33m:\u001b[0m\u001b[1;33m\u001b[0m\u001b[0m\n\u001b[0m\u001b[0;32m      5\u001b[0m     \u001b[1;32mfor\u001b[0m \u001b[0mline\u001b[0m \u001b[1;32min\u001b[0m \u001b[0mfp\u001b[0m\u001b[1;33m:\u001b[0m\u001b[1;33m\u001b[0m\u001b[0m\n\u001b[0;32m      6\u001b[0m         \u001b[0mprint\u001b[0m\u001b[1;33m(\u001b[0m\u001b[1;34m'> {}'\u001b[0m\u001b[1;33m.\u001b[0m\u001b[0mformat\u001b[0m\u001b[1;33m(\u001b[0m\u001b[0mline\u001b[0m\u001b[1;33m)\u001b[0m\u001b[1;33m)\u001b[0m\u001b[1;33m\u001b[0m\u001b[0m\n",
      "\u001b[1;31mFileNotFoundError\u001b[0m: [Errno 2] No such file or directory: 'what_are_context_managers.txt'"
     ]
    }
   ],
   "source": [
    "# most of pythonista may know that error free way of open file in python is using \n",
    "# context so what is context actually ?\n",
    "\n",
    "with open('what_are_context_managers.txt','r') as fp:\n",
    "    for line in fp:\n",
    "        print('> {}'.format(line))\n",
    "\n",
    "# currently there is no file called what_are_context_managers.txt you can create one if you want to\n",
    "# so it will for sure display error"
   ]
  },
  {
   "cell_type": "code",
   "execution_count": 4,
   "metadata": {},
   "outputs": [
    {
     "ename": "OSError",
     "evalue": "[Errno 24] Too many open files: 'foo.txt'",
     "output_type": "error",
     "traceback": [
      "\u001b[1;31m---------------------------------------------------------------------------\u001b[0m",
      "\u001b[1;31mOSError\u001b[0m                                   Traceback (most recent call last)",
      "\u001b[1;32m<ipython-input-4-6149fe8f2648>\u001b[0m in \u001b[0;36m<module>\u001b[1;34m()\u001b[0m\n\u001b[0;32m      8\u001b[0m \u001b[0mfiles\u001b[0m \u001b[1;33m=\u001b[0m \u001b[1;33m[\u001b[0m\u001b[1;33m]\u001b[0m\u001b[1;33m\u001b[0m\u001b[0m\n\u001b[0;32m      9\u001b[0m \u001b[1;32mfor\u001b[0m \u001b[0mx\u001b[0m \u001b[1;32min\u001b[0m \u001b[0mrange\u001b[0m\u001b[1;33m(\u001b[0m\u001b[1;36m9999999999\u001b[0m\u001b[1;33m)\u001b[0m\u001b[1;33m:\u001b[0m\u001b[1;33m\u001b[0m\u001b[0m\n\u001b[1;32m---> 10\u001b[1;33m     \u001b[0mfiles\u001b[0m\u001b[1;33m.\u001b[0m\u001b[0mappend\u001b[0m\u001b[1;33m(\u001b[0m\u001b[0mopen\u001b[0m\u001b[1;33m(\u001b[0m\u001b[1;34m'foo.txt'\u001b[0m\u001b[1;33m,\u001b[0m\u001b[1;34m'w+'\u001b[0m\u001b[1;33m)\u001b[0m\u001b[1;33m)\u001b[0m\u001b[1;33m\u001b[0m\u001b[0m\n\u001b[0m\u001b[0;32m     11\u001b[0m \u001b[1;33m\u001b[0m\u001b[0m\n\u001b[0;32m     12\u001b[0m \u001b[1;31m#     ALERT!!!!!!!!!!!!!!!!!!!!!!!!!\u001b[0m\u001b[1;33m\u001b[0m\u001b[1;33m\u001b[0m\u001b[0m\n",
      "\u001b[1;31mOSError\u001b[0m: [Errno 24] Too many open files: 'foo.txt'"
     ]
    }
   ],
   "source": [
    "# well the question to the answers what context manager is \n",
    "# context manager is used to properly manage the resources which our depend on \n",
    "# and most commonly seen example of context manager is opeaning files and reading it \n",
    "# so everything your os depend on to do something behind the kernal is resources \n",
    "# the act of opeaning of file also consume resource called file descriptor and this resources \n",
    "# are limited by the os you have \n",
    "# To prove try running this code\n",
    "files = []\n",
    "for x in range(9999999999):\n",
    "    files.append(open('foo.txt','w+'))\n",
    "\n",
    "#     ALERT!!!!!!!!!!!!!!!!!!!!!!!!!\n",
    "# dont run this code if you are in windows your computer will be dead \n",
    "# but if you are in linux then you will get error saying  ''' TOO MANY OPEN FILES !'''"
   ]
  },
  {
   "cell_type": "code",
   "execution_count": null,
   "metadata": {},
   "outputs": [],
   "source": [
    "# so what is wrong here probably we open to many files isn't it ?\n",
    "# but acutally the main problem hereis we open too many files and never close one \n",
    "# which is main problem here its mean we leak the too many file descriptor \n",
    "# so what is the solution  \n",
    "files = []\n",
    "for x in range(9999999999):\n",
    "    fp = open('foo.txt', 'w+')\n",
    "    fp.close()\n",
    "    files.append(fp)\n",
    "#     dont run this ok this will take more than hour or 2 hour to run "
   ]
  },
  {
   "cell_type": "code",
   "execution_count": null,
   "metadata": {},
   "outputs": [],
   "source": [
    "# Now there is no error  so it is possible for anyone to close the file after opeaning in very large application\n",
    "# if someone is building the very lagrge application there will be error like this which will cause serious problem later \n",
    "# so prime innovation here is using context managers to easly sort out these problems"
   ]
  },
  {
   "cell_type": "code",
   "execution_count": null,
   "metadata": {},
   "outputs": [],
   "source": [
    "\"\"\"\n",
    "with something_that_returns_a_context_manager() as my_resource:\n",
    "    do_something(my_resource)\n",
    "    ...\n",
    "    print('done using my_resource')\n",
    "\"\"\"\n",
    "\n",
    "# so this is our code called context manager which will not need you to close the resources it will do it \n",
    "# automatically when it dont finish his job \n",
    "# so what context manager look like behind the scene ?"
   ]
  },
  {
   "cell_type": "code",
   "execution_count": null,
   "metadata": {},
   "outputs": [],
   "source": [
    "# there are lots of methods to create context manager but the most easy and basic one is using python \n",
    "# magic functions  which will do magic behind the scene \n",
    "# to define context manager you just need these magic fucntions in your custom class \n",
    "# __enter__() and __exit__()  thank them they are obedient and do their job behind the scene so that \n",
    "# it will be easy for pythonista like us"
   ]
  },
  {
   "cell_type": "code",
   "execution_count": null,
   "metadata": {},
   "outputs": [],
   "source": [
    "class File():\n",
    "\n",
    "    def __init__(self, filename, mode):\n",
    "        self.filename = filename\n",
    "        self.mode = mode\n",
    "\n",
    "    def __enter__(self):\n",
    "        self.open_file = open(self.filename, self.mode)\n",
    "        return self.open_file\n",
    "\n",
    "    def __exit__(self, *args):\n",
    "        self.open_file.close()\n",
    "\n",
    "files = []\n",
    "for _ in range(10000):\n",
    "    with File('foo.txt', 'w') as infile:\n",
    "        infile.write('foo')\n",
    "        files.append(infile)\n",
    "        \n",
    "# so here we go our first custom Context Manager"
   ]
  },
  {
   "cell_type": "code",
   "execution_count": null,
   "metadata": {},
   "outputs": [],
   "source": [
    "# __init__ will be called when our first instance of class will be called and setup all requred things\n",
    "# and __enter__ magic function will be called when we access the instance of File  with 'with' statement and\n",
    "# return the instance to the variable declearted after 'as' in above example\n",
    "# and when with code block go out of scope __exit__ will be called to do the cleaning up of our mess"
   ]
  },
  {
   "cell_type": "code",
   "execution_count": null,
   "metadata": {},
   "outputs": [],
   "source": [
    "# and this is so much easy and fun to code with context manager isn't it"
   ]
  },
  {
   "cell_type": "code",
   "execution_count": null,
   "metadata": {},
   "outputs": [],
   "source": []
  }
 ],
 "metadata": {
  "kernelspec": {
   "display_name": "Python 3",
   "language": "python",
   "name": "python3"
  },
  "language_info": {
   "codemirror_mode": {
    "name": "ipython",
    "version": 3
   },
   "file_extension": ".py",
   "mimetype": "text/x-python",
   "name": "python",
   "nbconvert_exporter": "python",
   "pygments_lexer": "ipython3",
   "version": "3.6.5"
  }
 },
 "nbformat": 4,
 "nbformat_minor": 2
}
