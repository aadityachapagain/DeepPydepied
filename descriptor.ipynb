{
 "cells": [
  {
   "cell_type": "code",
   "execution_count": 1,
   "metadata": {},
   "outputs": [
    {
     "data": {
      "text/plain": [
       "'\\nwhat is descriptor in python? why we need Descriptor in python ? lets take a our path to Pythonic descriptor\\n\\n'"
      ]
     },
     "execution_count": 1,
     "metadata": {},
     "output_type": "execute_result"
    }
   ],
   "source": [
    "'''\n",
    "what is descriptor in python? why we need Descriptor in python ? lets take a our path to Pythonic descriptor\n",
    "\n",
    "In general, a descriptor is an object attribute with “binding behavior”, one whose attribute access has been overridden\n",
    "by methods in the descriptor protocol. Those methods are __get__(), __set__(), and __delete__(). If any of those methods are\n",
    "defined for an object, it is said to be a descriptor.\n",
    "'''"
   ]
  },
  {
   "cell_type": "code",
   "execution_count": 6,
   "metadata": {},
   "outputs": [],
   "source": [
    "# why we need Descriptor lets dive into real world application\n",
    "\n",
    "class Order:\n",
    "    def __init__(self, name, price, quantity):\n",
    "        self.name = name\n",
    "        self.price = price\n",
    "        self.quantity = quantity\n",
    "        \n",
    "    def total(self):\n",
    "        return self.price * self.quantity\n",
    "\n",
    "apple_order = Order('apple',1,10)\n",
    "apple_order.total()\n",
    "\n",
    "# seems straightforward right but just look logically there a bug\n",
    "apple_order.quantity = -10\n",
    "apple_order.total()"
   ]
  },
  {
   "cell_type": "code",
   "execution_count": 11,
   "metadata": {},
   "outputs": [
    {
     "ename": "ValueError",
     "evalue": "Cannot be negative.",
     "output_type": "error",
     "traceback": [
      "\u001b[1;31m---------------------------------------------------------------------------\u001b[0m",
      "\u001b[1;31mValueError\u001b[0m                                Traceback (most recent call last)",
      "\u001b[1;32m<ipython-input-11-cdf735b5b321>\u001b[0m in \u001b[0;36m<module>\u001b[1;34m()\u001b[0m\n\u001b[0;32m     20\u001b[0m \u001b[1;33m\u001b[0m\u001b[0m\n\u001b[0;32m     21\u001b[0m \u001b[0mapple_order\u001b[0m \u001b[1;33m=\u001b[0m \u001b[0mOrder\u001b[0m\u001b[1;33m(\u001b[0m\u001b[1;34m'apple'\u001b[0m\u001b[1;33m,\u001b[0m\u001b[1;36m1\u001b[0m\u001b[1;33m,\u001b[0m\u001b[1;36m10\u001b[0m\u001b[1;33m)\u001b[0m\u001b[1;33m\u001b[0m\u001b[0m\n\u001b[1;32m---> 22\u001b[1;33m \u001b[0mapple_order\u001b[0m\u001b[1;33m.\u001b[0m\u001b[0mquantity\u001b[0m \u001b[1;33m=\u001b[0m \u001b[1;33m-\u001b[0m\u001b[1;36m10\u001b[0m\u001b[1;33m\u001b[0m\u001b[0m\n\u001b[0m\u001b[0;32m     23\u001b[0m \u001b[1;31m# ValueError: Cannot be negative\u001b[0m\u001b[1;33m\u001b[0m\u001b[1;33m\u001b[0m\u001b[0m\n\u001b[0;32m     24\u001b[0m \u001b[0mapple_order\u001b[0m\u001b[1;33m.\u001b[0m\u001b[0mquantity\u001b[0m\u001b[1;33m\u001b[0m\u001b[0m\n",
      "\u001b[1;32m<ipython-input-11-cdf735b5b321>\u001b[0m in \u001b[0;36mquantity\u001b[1;34m(self, value)\u001b[0m\n\u001b[0;32m     15\u001b[0m     \u001b[1;32mdef\u001b[0m \u001b[0mquantity\u001b[0m\u001b[1;33m(\u001b[0m\u001b[0mself\u001b[0m\u001b[1;33m,\u001b[0m \u001b[0mvalue\u001b[0m\u001b[1;33m)\u001b[0m\u001b[1;33m:\u001b[0m\u001b[1;33m\u001b[0m\u001b[0m\n\u001b[0;32m     16\u001b[0m         \u001b[1;32mif\u001b[0m \u001b[0mvalue\u001b[0m \u001b[1;33m<\u001b[0m \u001b[1;36m0\u001b[0m\u001b[1;33m:\u001b[0m\u001b[1;33m\u001b[0m\u001b[0m\n\u001b[1;32m---> 17\u001b[1;33m             \u001b[1;32mraise\u001b[0m \u001b[0mValueError\u001b[0m\u001b[1;33m(\u001b[0m\u001b[1;34m'Cannot be negative.'\u001b[0m\u001b[1;33m)\u001b[0m\u001b[1;33m\u001b[0m\u001b[0m\n\u001b[0m\u001b[0;32m     18\u001b[0m         \u001b[0mprint\u001b[0m\u001b[1;33m(\u001b[0m \u001b[1;34m\"what ......\"\u001b[0m\u001b[1;33m)\u001b[0m\u001b[1;33m\u001b[0m\u001b[0m\n\u001b[0;32m     19\u001b[0m         \u001b[0mself\u001b[0m\u001b[1;33m.\u001b[0m\u001b[0m_quantity\u001b[0m \u001b[1;33m=\u001b[0m \u001b[0mvalue\u001b[0m  \u001b[1;31m# (2)\u001b[0m\u001b[1;33m\u001b[0m\u001b[0m\n",
      "\u001b[1;31mValueError\u001b[0m: Cannot be negative."
     ]
    }
   ],
   "source": [
    "# yehh look in real world our quantity never go negative thats the problem here \n",
    "# lets solve this using descriptor model\n",
    "\n",
    "class Order:\n",
    "    def __init__(self, name, price, quantity):\n",
    "        self._name = name\n",
    "        self.price = price\n",
    "        self._quantity = quantity  # (1)\n",
    "\n",
    "    @property\n",
    "    def quantity(self):\n",
    "        return self._quantity\n",
    "\n",
    "    @quantity.setter\n",
    "    def quantity(self, value):\n",
    "        if value < 0:\n",
    "            raise ValueError('Cannot be negative.')\n",
    "        self._quantity = value  # (2)\n",
    "        \n",
    "apple_order = Order('apple',1,10)\n",
    "apple_order.quantity = -10\n",
    "# ValueError: Cannot be negative\n",
    "apple_order.quantity"
   ]
  },
  {
   "cell_type": "code",
   "execution_count": 39,
   "metadata": {},
   "outputs": [
    {
     "data": {
      "text/plain": [
       "10"
      ]
     },
     "execution_count": 39,
     "metadata": {},
     "output_type": "execute_result"
    }
   ],
   "source": [
    "# yay it now cannot be nagative but wait .....\n",
    "# other than quantity price can also be aassigned negative value \n",
    "# what about that ...........\n",
    "\n",
    "# since we know that if we have same portion of code for two different operation \n",
    "# we would lik to make a single reusable code Right! \n",
    "# so lets start from different way \n",
    "\n",
    "class NonNegative:\n",
    "    def __init__(self, name):\n",
    "        self.name = name  # (4)\n",
    "    def __get__(self, instance, owner):\n",
    "        return instance.__dict__[self.name]  # (5)\n",
    "    def __set__(self, instance, value):\n",
    "        if value < 0:\n",
    "            raise ValueError('Cannot be negative.')\n",
    "        instance.__dict__[self.name] = value  # (6)\n",
    "\n",
    "\n",
    "class Order:\n",
    "    price = NonNegative('price')  # (3)\n",
    "    quantity = NonNegative('quantity')\n",
    "\n",
    "    def __init__(self, name, price, quantity):\n",
    "        self._name = name\n",
    "        self.price = price\n",
    "        self.quantity = quantity\n",
    "\n",
    "    def total(self):\n",
    "        return self.price * self.quantity\n",
    "\n",
    "apple_order = Order('apple', 1, 10)\n",
    "apple_order.total()\n",
    "# 10\n",
    "# apple_order.price = -10\n",
    "# ValueError: Cannot be negative\n",
    "apple_order.quantity = 10\n",
    "apple_order.quantity"
   ]
  },
  {
   "cell_type": "code",
   "execution_count": 2,
   "metadata": {},
   "outputs": [
    {
     "name": "stdout",
     "output_type": "stream",
     "text": [
      "<class '__main__.Order'>\n",
      "price\n",
      "<class '__main__.Order'>\n",
      "quantity\n",
      "10\n"
     ]
    },
    {
     "ename": "ValueError",
     "evalue": "Cannot be negative.",
     "output_type": "error",
     "traceback": [
      "\u001b[1;31m---------------------------------------------------------------------------\u001b[0m",
      "\u001b[1;31mValueError\u001b[0m                                Traceback (most recent call last)",
      "\u001b[1;32m<ipython-input-2-b1acbc729067>\u001b[0m in \u001b[0;36m<module>\u001b[1;34m()\u001b[0m\n\u001b[0;32m     28\u001b[0m \u001b[0mprint\u001b[0m\u001b[1;33m(\u001b[0m\u001b[0mapple_order\u001b[0m\u001b[1;33m.\u001b[0m\u001b[0mtotal\u001b[0m\u001b[1;33m(\u001b[0m\u001b[1;33m)\u001b[0m\u001b[1;33m)\u001b[0m\u001b[1;33m\u001b[0m\u001b[0m\n\u001b[0;32m     29\u001b[0m \u001b[1;31m# 10\u001b[0m\u001b[1;33m\u001b[0m\u001b[1;33m\u001b[0m\u001b[0m\n\u001b[1;32m---> 30\u001b[1;33m \u001b[0mapple_order\u001b[0m\u001b[1;33m.\u001b[0m\u001b[0mprice\u001b[0m \u001b[1;33m=\u001b[0m \u001b[1;33m-\u001b[0m\u001b[1;36m10\u001b[0m\u001b[1;33m\u001b[0m\u001b[0m\n\u001b[0m\u001b[0;32m     31\u001b[0m \u001b[1;31m# ValueError: Cannot be negative\u001b[0m\u001b[1;33m\u001b[0m\u001b[1;33m\u001b[0m\u001b[0m\n\u001b[0;32m     32\u001b[0m \u001b[0mapple_order\u001b[0m\u001b[1;33m.\u001b[0m\u001b[0mquantity\u001b[0m \u001b[1;33m=\u001b[0m \u001b[1;33m-\u001b[0m\u001b[1;36m10\u001b[0m\u001b[1;33m\u001b[0m\u001b[0m\n",
      "\u001b[1;32m<ipython-input-2-b1acbc729067>\u001b[0m in \u001b[0;36m__set__\u001b[1;34m(self, instance, value)\u001b[0m\n\u001b[0;32m      6\u001b[0m     \u001b[1;32mdef\u001b[0m \u001b[0m__set__\u001b[0m\u001b[1;33m(\u001b[0m\u001b[0mself\u001b[0m\u001b[1;33m,\u001b[0m \u001b[0minstance\u001b[0m\u001b[1;33m,\u001b[0m \u001b[0mvalue\u001b[0m\u001b[1;33m)\u001b[0m\u001b[1;33m:\u001b[0m\u001b[1;33m\u001b[0m\u001b[0m\n\u001b[0;32m      7\u001b[0m         \u001b[1;32mif\u001b[0m \u001b[0mvalue\u001b[0m \u001b[1;33m<\u001b[0m \u001b[1;36m0\u001b[0m\u001b[1;33m:\u001b[0m\u001b[1;33m\u001b[0m\u001b[0m\n\u001b[1;32m----> 8\u001b[1;33m             \u001b[1;32mraise\u001b[0m \u001b[0mValueError\u001b[0m\u001b[1;33m(\u001b[0m\u001b[1;34m'Cannot be negative.'\u001b[0m\u001b[1;33m)\u001b[0m\u001b[1;33m\u001b[0m\u001b[0m\n\u001b[0m\u001b[0;32m      9\u001b[0m         \u001b[0minstance\u001b[0m\u001b[1;33m.\u001b[0m\u001b[0m__dict__\u001b[0m\u001b[1;33m[\u001b[0m\u001b[0mself\u001b[0m\u001b[1;33m.\u001b[0m\u001b[0mname\u001b[0m\u001b[1;33m]\u001b[0m \u001b[1;33m=\u001b[0m \u001b[0mvalue\u001b[0m\u001b[1;33m\u001b[0m\u001b[0m\n\u001b[0;32m     10\u001b[0m     \u001b[1;32mdef\u001b[0m \u001b[0m__set_name__\u001b[0m\u001b[1;33m(\u001b[0m\u001b[0mself\u001b[0m\u001b[1;33m,\u001b[0m \u001b[0mowner\u001b[0m\u001b[1;33m,\u001b[0m \u001b[0mname\u001b[0m\u001b[1;33m)\u001b[0m\u001b[1;33m:\u001b[0m\u001b[1;33m\u001b[0m\u001b[0m\n",
      "\u001b[1;31mValueError\u001b[0m: Cannot be negative."
     ]
    }
   ],
   "source": [
    "# now same thing can be achieved using python new descriptor Protocol\n",
    "\n",
    "class NonNegative:\n",
    "    def __get__(self, instance, owner):\n",
    "        return instance.__dict__[self.name]\n",
    "    def __set__(self, instance, value):\n",
    "        if value < 0:\n",
    "            raise ValueError('Cannot be negative.')\n",
    "        instance.__dict__[self.name] = value\n",
    "    def __set_name__(self, owner, name):\n",
    "        print(str(owner))\n",
    "        print(name)\n",
    "        self.name = name\n",
    "\n",
    "class Order:\n",
    "    price = NonNegative()\n",
    "    quantity = NonNegative()\n",
    "\n",
    "    def __init__(self, name, price, quantity):\n",
    "        self._name = name\n",
    "        self.price = price\n",
    "        self.quantity = quantity\n",
    "\n",
    "    def total(self):\n",
    "        return self.price * self.quantity\n",
    "\n",
    "apple_order = Order('apple', 1, 10)\n",
    "print(apple_order.total())\n",
    "# 10\n",
    "apple_order.price = -10\n",
    "# ValueError: Cannot be negative\n",
    "apple_order.quantity = -10\n",
    "# ValueError: Cannot be negative"
   ]
  },
  {
   "cell_type": "code",
   "execution_count": 41,
   "metadata": {},
   "outputs": [],
   "source": [
    "# yalap yalap yalap"
   ]
  },
  {
   "cell_type": "code",
   "execution_count": null,
   "metadata": {},
   "outputs": [],
   "source": []
  }
 ],
 "metadata": {
  "kernelspec": {
   "display_name": "Python 3",
   "language": "python",
   "name": "python3"
  },
  "language_info": {
   "codemirror_mode": {
    "name": "ipython",
    "version": 3
   },
   "file_extension": ".py",
   "mimetype": "text/x-python",
   "name": "python",
   "nbconvert_exporter": "python",
   "pygments_lexer": "ipython3",
   "version": "3.6.5"
  }
 },
 "nbformat": 4,
 "nbformat_minor": 2
}
