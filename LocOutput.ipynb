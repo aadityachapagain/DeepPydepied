{
 "cells": [
  {
   "cell_type": "code",
   "execution_count": 3,
   "metadata": {},
   "outputs": [],
   "source": [
    "# ############################################################ #\n",
    "# >>>>>>>>>>>>>>>>>>>>>  EXPERIMENTAL   <<<<<<<<<<<<<<<<<<<<<< #\n",
    "# ############################################################ #"
   ]
  },
  {
   "cell_type": "code",
   "execution_count": 5,
   "metadata": {},
   "outputs": [],
   "source": [
    "class MetaCls(type):\n",
    "    \n",
    "     def __new__(cls, clsname, bases, clsdict):\n",
    "            print(str(cls))\n",
    "            print(str(clsname))\n",
    "            print(str(bases))\n",
    "            print(str(clsdict))\n",
    "            return super().__new__(cls, clsname, bases, clsdict)\n",
    "            "
   ]
  },
  {
   "cell_type": "code",
   "execution_count": 38,
   "metadata": {
    "scrolled": false
   },
   "outputs": [
    {
     "name": "stdout",
     "output_type": "stream",
     "text": [
      "<class '__main__.MetaCls'>\n",
      "Save\n",
      "()\n",
      "{'__module__': '__main__', '__qualname__': 'Save', '__init__': <function Save.__init__ at 0x000001CE77552D08>}\n"
     ]
    }
   ],
   "source": [
    "class Save(metaclass=MetaCls):\n",
    "    \n",
    "    def __init__(self,first: str,last: str,age: int, output=None):\n",
    "        self.first = first\n",
    "        self.last = last\n",
    "        self.age = age\n",
    "        if output is not None:\n",
    "            if isinstance(output,str):\n",
    "                globals()[output] = 'Name is: '+ self.first +' '+self.last+' and age is:'+str(self.age)\n",
    "            \n",
    "        \n",
    "    "
   ]
  },
  {
   "cell_type": "code",
   "execution_count": 9,
   "metadata": {},
   "outputs": [
    {
     "data": {
      "text/plain": [
       "'__main__'"
      ]
     },
     "execution_count": 9,
     "metadata": {},
     "output_type": "execute_result"
    }
   ],
   "source": [
    "__name__\n",
    "\\"
   ]
  },
  {
   "cell_type": "code",
   "execution_count": 10,
   "metadata": {},
   "outputs": [
    {
     "data": {
      "text/plain": [
       "<function vars>"
      ]
     },
     "execution_count": 10,
     "metadata": {},
     "output_type": "execute_result"
    }
   ],
   "source": [
    "vars"
   ]
  },
  {
   "cell_type": "code",
   "execution_count": 12,
   "metadata": {},
   "outputs": [
    {
     "data": {
      "text/plain": [
       "__main__.Save"
      ]
     },
     "execution_count": 12,
     "metadata": {},
     "output_type": "execute_result"
    }
   ],
   "source": [
    "Save"
   ]
  },
  {
   "cell_type": "code",
   "execution_count": 14,
   "metadata": {},
   "outputs": [
    {
     "data": {
      "text/plain": [
       "[__main__.Save, object]"
      ]
     },
     "execution_count": 14,
     "metadata": {},
     "output_type": "execute_result"
    }
   ],
   "source": [
    "Save.mro()"
   ]
  },
  {
   "cell_type": "code",
   "execution_count": 17,
   "metadata": {},
   "outputs": [],
   "source": [
    "save = Save('Azazal','perfecto','21')"
   ]
  },
  {
   "cell_type": "code",
   "execution_count": 18,
   "metadata": {},
   "outputs": [
    {
     "data": {
      "text/plain": [
       "{'first': 'Azazal', 'last': 'perfecto', 'age': '21', '_Save__output': None}"
      ]
     },
     "execution_count": 18,
     "metadata": {},
     "output_type": "execute_result"
    }
   ],
   "source": [
    "save.__dict__"
   ]
  },
  {
   "cell_type": "code",
   "execution_count": 19,
   "metadata": {},
   "outputs": [
    {
     "data": {
      "text/plain": [
       "{'first': 'Azazal', 'last': 'perfecto', 'age': '21', '_Save__output': None}"
      ]
     },
     "execution_count": 19,
     "metadata": {},
     "output_type": "execute_result"
    }
   ],
   "source": [
    "vars(save)"
   ]
  },
  {
   "cell_type": "code",
   "execution_count": 20,
   "metadata": {},
   "outputs": [
    {
     "data": {
      "text/plain": [
       "'__main__'"
      ]
     },
     "execution_count": 20,
     "metadata": {},
     "output_type": "execute_result"
    }
   ],
   "source": [
    "save.__module__"
   ]
  },
  {
   "cell_type": "code",
   "execution_count": 28,
   "metadata": {},
   "outputs": [],
   "source": [
    "# This was what i actually trying to get here \n",
    "# see the magic of python "
   ]
  },
  {
   "cell_type": "code",
   "execution_count": 29,
   "metadata": {},
   "outputs": [
    {
     "data": {
      "text/plain": [
       "{'__name__': '__main__',\n",
       " '__doc__': 'Automatically created module for IPython interactive environment',\n",
       " '__package__': None,\n",
       " '__loader__': None,\n",
       " '__spec__': None,\n",
       " '__builtin__': <module 'builtins' (built-in)>,\n",
       " '__builtins__': <module 'builtins' (built-in)>,\n",
       " '_ih': ['',\n",
       "  '__main__',\n",
       "  'self',\n",
       "  '# ############################################################\\n# @@@@@@@@@@@@@@@@@@@@@  EXPERIMENTAL   @@@@@@@@@@@@@@@@@@@@@@\\n# ############################################################',\n",
       "  'class Save:\\n    \\n    def __init__(self,first: str,last: str,age: int):\\n        self.first = first\\n        self.last = last\\n        self.age = age',\n",
       "  'class MetaCls(type):\\n    \\n     def __new__(cls, clsname, bases, clsdict):\\n            print(str(cls))\\n            print(str(clsname))\\n            print(str(bases))\\n            print(str(clsdict))\\n            return super().__new__(cls, clsname, bases, clsdict)\\n            ',\n",
       "  'class Save(metaclass=Metacls):\\n    \\n    def __init__(self,first: str,last: str,age: int, output=null):\\n        self.first = first\\n        self.last = last\\n        self.age = age\\n        self.__output = output\\n        \\n    ',\n",
       "  'class Save(metaclass=MetaCls):\\n    \\n    def __init__(self,first: str,last: str,age: int, output=null):\\n        self.first = first\\n        self.last = last\\n        self.age = age\\n        self.__output = output\\n        \\n    ',\n",
       "  'class Save(metaclass=MetaCls):\\n    \\n    def __init__(self,first: str,last: str,age: int, output=None):\\n        self.first = first\\n        self.last = last\\n        self.age = age\\n        self.__output = output\\n        \\n    ',\n",
       "  '__name__',\n",
       "  'vars',\n",
       "  'vars()',\n",
       "  'Save',\n",
       "  'Save.mro',\n",
       "  'Save.mro()',\n",
       "  '__main__.__dict__',\n",
       "  \"Save('Azazal','perfecto','21')\",\n",
       "  \"save = Save('Azazal','perfecto','21')\",\n",
       "  'save.__dict__',\n",
       "  'vars(save)',\n",
       "  'save.__module__',\n",
       "  'save.__module__',\n",
       "  'save.__module__.__dict__',\n",
       "  'save.__module__.__class__',\n",
       "  'save.__module__.__module__',\n",
       "  \"setattr(__main__,'value','this is dope')\",\n",
       "  \"setattr(base,'value','this is dope')\",\n",
       "  \"setattr(self,'value','this is dope')\",\n",
       "  '# This was what i actually trying to get here \\n# see the magic of python ',\n",
       "  'globals()'],\n",
       " '_oh': {9: '__main__',\n",
       "  10: <function vars>,\n",
       "  11: {...},\n",
       "  12: __main__.Save,\n",
       "  13: <function Save.mro>,\n",
       "  14: [__main__.Save, object],\n",
       "  16: <__main__.Save at 0x1ce774f0240>,\n",
       "  18: {'first': 'Azazal',\n",
       "   'last': 'perfecto',\n",
       "   'age': '21',\n",
       "   '_Save__output': None},\n",
       "  19: {'first': 'Azazal',\n",
       "   'last': 'perfecto',\n",
       "   'age': '21',\n",
       "   '_Save__output': None},\n",
       "  20: '__main__',\n",
       "  21: '__main__',\n",
       "  23: str},\n",
       " '_dh': ['f:\\\\DeepPydepied'],\n",
       " 'In': ['',\n",
       "  '__main__',\n",
       "  'self',\n",
       "  '# ############################################################\\n# @@@@@@@@@@@@@@@@@@@@@  EXPERIMENTAL   @@@@@@@@@@@@@@@@@@@@@@\\n# ############################################################',\n",
       "  'class Save:\\n    \\n    def __init__(self,first: str,last: str,age: int):\\n        self.first = first\\n        self.last = last\\n        self.age = age',\n",
       "  'class MetaCls(type):\\n    \\n     def __new__(cls, clsname, bases, clsdict):\\n            print(str(cls))\\n            print(str(clsname))\\n            print(str(bases))\\n            print(str(clsdict))\\n            return super().__new__(cls, clsname, bases, clsdict)\\n            ',\n",
       "  'class Save(metaclass=Metacls):\\n    \\n    def __init__(self,first: str,last: str,age: int, output=null):\\n        self.first = first\\n        self.last = last\\n        self.age = age\\n        self.__output = output\\n        \\n    ',\n",
       "  'class Save(metaclass=MetaCls):\\n    \\n    def __init__(self,first: str,last: str,age: int, output=null):\\n        self.first = first\\n        self.last = last\\n        self.age = age\\n        self.__output = output\\n        \\n    ',\n",
       "  'class Save(metaclass=MetaCls):\\n    \\n    def __init__(self,first: str,last: str,age: int, output=None):\\n        self.first = first\\n        self.last = last\\n        self.age = age\\n        self.__output = output\\n        \\n    ',\n",
       "  '__name__',\n",
       "  'vars',\n",
       "  'vars()',\n",
       "  'Save',\n",
       "  'Save.mro',\n",
       "  'Save.mro()',\n",
       "  '__main__.__dict__',\n",
       "  \"Save('Azazal','perfecto','21')\",\n",
       "  \"save = Save('Azazal','perfecto','21')\",\n",
       "  'save.__dict__',\n",
       "  'vars(save)',\n",
       "  'save.__module__',\n",
       "  'save.__module__',\n",
       "  'save.__module__.__dict__',\n",
       "  'save.__module__.__class__',\n",
       "  'save.__module__.__module__',\n",
       "  \"setattr(__main__,'value','this is dope')\",\n",
       "  \"setattr(base,'value','this is dope')\",\n",
       "  \"setattr(self,'value','this is dope')\",\n",
       "  '# This was what i actually trying to get here \\n# see the magic of python ',\n",
       "  'globals()'],\n",
       " 'Out': {9: '__main__',\n",
       "  10: <function vars>,\n",
       "  11: {...},\n",
       "  12: __main__.Save,\n",
       "  13: <function Save.mro>,\n",
       "  14: [__main__.Save, object],\n",
       "  16: <__main__.Save at 0x1ce774f0240>,\n",
       "  18: {'first': 'Azazal',\n",
       "   'last': 'perfecto',\n",
       "   'age': '21',\n",
       "   '_Save__output': None},\n",
       "  19: {'first': 'Azazal',\n",
       "   'last': 'perfecto',\n",
       "   'age': '21',\n",
       "   '_Save__output': None},\n",
       "  20: '__main__',\n",
       "  21: '__main__',\n",
       "  23: str},\n",
       " 'get_ipython': <bound method InteractiveShell.get_ipython of <ipykernel.zmqshell.ZMQInteractiveShell object at 0x000001CE76B115F8>>,\n",
       " 'exit': <IPython.core.autocall.ZMQExitAutocall at 0x1ce77364898>,\n",
       " 'quit': <IPython.core.autocall.ZMQExitAutocall at 0x1ce77364898>,\n",
       " '_': str,\n",
       " '__': '__main__',\n",
       " '___': '__main__',\n",
       " '_i': '# This was what i actually trying to get here \\n# see the magic of python ',\n",
       " '_ii': \"setattr(self,'value','this is dope')\",\n",
       " '_iii': \"setattr(base,'value','this is dope')\",\n",
       " '_i1': '__main__',\n",
       " '_i2': 'self',\n",
       " '_i3': '# ############################################################\\n# @@@@@@@@@@@@@@@@@@@@@  EXPERIMENTAL   @@@@@@@@@@@@@@@@@@@@@@\\n# ############################################################',\n",
       " '_i4': 'class Save:\\n    \\n    def __init__(self,first: str,last: str,age: int):\\n        self.first = first\\n        self.last = last\\n        self.age = age',\n",
       " 'Save': __main__.Save,\n",
       " '_i5': 'class MetaCls(type):\\n    \\n     def __new__(cls, clsname, bases, clsdict):\\n            print(str(cls))\\n            print(str(clsname))\\n            print(str(bases))\\n            print(str(clsdict))\\n            return super().__new__(cls, clsname, bases, clsdict)\\n            ',\n",
       " 'MetaCls': __main__.MetaCls,\n",
       " '_i6': 'class Save(metaclass=Metacls):\\n    \\n    def __init__(self,first: str,last: str,age: int, output=null):\\n        self.first = first\\n        self.last = last\\n        self.age = age\\n        self.__output = output\\n        \\n    ',\n",
       " '_i7': 'class Save(metaclass=MetaCls):\\n    \\n    def __init__(self,first: str,last: str,age: int, output=null):\\n        self.first = first\\n        self.last = last\\n        self.age = age\\n        self.__output = output\\n        \\n    ',\n",
       " '_i8': 'class Save(metaclass=MetaCls):\\n    \\n    def __init__(self,first: str,last: str,age: int, output=None):\\n        self.first = first\\n        self.last = last\\n        self.age = age\\n        self.__output = output\\n        \\n    ',\n",
       " '_i9': '__name__\\n\\\\',\n",
       " '_9': '__main__',\n",
       " '_i10': 'vars',\n",
       " '_10': <function vars>,\n",
       " '_i11': 'vars()',\n",
       " '_11': {...},\n",
       " '_i12': 'Save',\n",
       " '_12': __main__.Save,\n",
       " '_i13': 'Save.mro',\n",
       " '_13': <function Save.mro>,\n",
       " '_i14': 'Save.mro()',\n",
       " '_14': [__main__.Save, object],\n",
       " '_i15': '__main__.__dict__',\n",
       " '_i16': \"Save('Azazal','perfecto','21')\",\n",
       " '_16': <__main__.Save at 0x1ce774f0240>,\n",
       " '_i17': \"save = Save('Azazal','perfecto','21')\",\n",
       " 'save': <__main__.Save at 0x1ce77506048>,\n",
       " '_i18': 'save.__dict__',\n",
       " '_18': {'first': 'Azazal',\n",
       "  'last': 'perfecto',\n",
       "  'age': '21',\n",
       "  '_Save__output': None},\n",
       " '_i19': 'vars(save)',\n",
       " '_19': {'first': 'Azazal',\n",
       "  'last': 'perfecto',\n",
       "  'age': '21',\n",
       "  '_Save__output': None},\n",
       " '_i20': 'save.__module__',\n",
       " '_20': '__main__',\n",
       " '_i21': 'save.__module__',\n",
       " '_21': '__main__',\n",
       " '_i22': 'save.__module__.__dict__',\n",
       " '_i23': 'save.__module__.__class__',\n",
       " '_23': str,\n",
       " '_i24': 'save.__module__.__module__',\n",
       " '_i25': \"setattr(__main__,'value','this is dope')\",\n",
       " '_i26': \"setattr(base,'value','this is dope')\",\n",
       " '_i27': \"setattr(self,'value','this is dope')\",\n",
       " '_i28': '# This was what i actually trying to get here \\n# see the magic of python ',\n",
       " '_i29': 'globals()'}"
      ]
     },
     "execution_count": 29,
     "metadata": {},
     "output_type": "execute_result"
    }
   ],
   "source": [
    "globals()"
   ]
  },
  {
   "cell_type": "code",
   "execution_count": 39,
   "metadata": {},
   "outputs": [
    {
     "data": {
      "text/plain": [
       "<__main__.Save at 0x1ce7758fda0>"
      ]
     },
     "execution_count": 39,
     "metadata": {},
     "output_type": "execute_result"
    }
   ],
   "source": [
    "Save('Azazel','perfecto',21,output='stats')"
   ]
  },
  {
   "cell_type": "code",
   "execution_count": 32,
   "metadata": {},
   "outputs": [
    {
     "ename": "SyntaxError",
     "evalue": "invalid syntax (<ipython-input-32-36483f3fb57a>, line 1)",
     "output_type": "error",
     "traceback": [
      "\u001b[1;36m  File \u001b[1;32m\"<ipython-input-32-36483f3fb57a>\"\u001b[1;36m, line \u001b[1;32m1\u001b[0m\n\u001b[1;33m    12.int(2)\u001b[0m\n\u001b[1;37m         ^\u001b[0m\n\u001b[1;31mSyntaxError\u001b[0m\u001b[1;31m:\u001b[0m invalid syntax\n"
     ]
    }
   ],
   "source": [
    "12.int(2)"
   ]
  },
  {
   "cell_type": "code",
   "execution_count": 33,
   "metadata": {},
   "outputs": [
    {
     "data": {
      "text/plain": [
       "2"
      ]
     },
     "execution_count": 33,
     "metadata": {},
     "output_type": "execute_result"
    }
   ],
   "source": [
    "int(2)"
   ]
  },
  {
   "cell_type": "code",
   "execution_count": 34,
   "metadata": {},
   "outputs": [
    {
     "data": {
      "text/plain": [
       "20"
      ]
     },
     "execution_count": 34,
     "metadata": {},
     "output_type": "execute_result"
    }
   ],
   "source": [
    "int(20)"
   ]
  },
  {
   "cell_type": "code",
   "execution_count": 40,
   "metadata": {},
   "outputs": [
    {
     "ename": "NameError",
     "evalue": "name 'output' is not defined",
     "output_type": "error",
     "traceback": [
      "\u001b[1;31m---------------------------------------------------------------------------\u001b[0m",
      "\u001b[1;31mNameError\u001b[0m                                 Traceback (most recent call last)",
      "\u001b[1;32m<ipython-input-40-61353e8b2d5a>\u001b[0m in \u001b[0;36m<module>\u001b[1;34m()\u001b[0m\n\u001b[1;32m----> 1\u001b[1;33m \u001b[0moutput\u001b[0m\u001b[1;33m\u001b[0m\u001b[0m\n\u001b[0m",
      "\u001b[1;31mNameError\u001b[0m: name 'output' is not defined"
     ]
    }
   ],
   "source": [
    "output"
   ]
  },
  {
   "cell_type": "code",
   "execution_count": 41,
   "metadata": {},
   "outputs": [
    {
     "data": {
      "text/plain": [
       "'Name is: Azazel perfecto and age is:21'"
      ]
     },
     "execution_count": 41,
     "metadata": {},
     "output_type": "execute_result"
    }
   ],
   "source": [
    "stats"
   ]
  },
  {
   "cell_type": "code",
   "execution_count": null,
   "metadata": {},
   "outputs": [],
   "source": []
  }
 ],
 "metadata": {
  "kernelspec": {
   "display_name": "Python 3",
   "language": "python",
   "name": "python3"
  },
  "language_info": {
   "codemirror_mode": {
    "name": "ipython",
    "version": 3
   },
   "file_extension": ".py",
   "mimetype": "text/x-python",
   "name": "python",
   "nbconvert_exporter": "python",
   "pygments_lexer": "ipython3",
   "version": "3.6.5"
  }
 },
 "nbformat": 4,
 "nbformat_minor": 2
}
