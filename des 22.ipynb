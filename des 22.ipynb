{
 "cells": [
  {
   "cell_type": "code",
   "execution_count": 25,
   "metadata": {},
   "outputs": [
    {
     "name": "stdout",
     "output_type": "stream",
     "text": [
      "'()(())'\n",
      "N '()(())'\n"
     ]
    }
   ],
   "source": [
    "# Enter your code here. Read input from STDIN. Print output to STDOUT\n",
    "import re\n",
    "\n",
    "pattern = input()\n",
    "\n",
    "pattern = re.compile(r'[\\w\\^\\*\\+\\/\\-]').sub('',pattern)\n",
    "pattern = re.compile(r'\\s').sub('',pattern)\n",
    "depth = []\n",
    "\n",
    "\n",
    "for value in range(len(pattern)):\n",
    "    if len(depth):\n",
    "        val = depth[len(depth)-1]\n",
    "        if val == '(' and pattern[value] == ')':\n",
    "            depth.pop()\n",
    "        elif val == '{' and pattern[value] == '}':\n",
    "            depth.pop()\n",
    "        elif val == '[' and pattern[value] == ']':\n",
    "            depth.pop()\n",
    "        else:\n",
    "            depth.append(pattern[value])\n",
    "    else:\n",
    "        if pattern[value] != '':\n",
    "            depth.append(pattern[value])\n",
    "\n",
    "if len(depth):\n",
    "    print('N',pattern)\n",
    "else:\n",
    "    print('Y',pattern)"
   ]
  },
  {
   "cell_type": "code",
   "execution_count": 15,
   "metadata": {},
   "outputs": [
    {
     "data": {
      "text/plain": [
       "'()(())'"
      ]
     },
     "execution_count": 15,
     "metadata": {},
     "output_type": "execute_result"
    }
   ],
   "source": [
    "pattern"
   ]
  },
  {
   "cell_type": "code",
   "execution_count": 13,
   "metadata": {},
   "outputs": [
    {
     "data": {
      "text/plain": [
       "')'"
      ]
     },
     "execution_count": 13,
     "metadata": {},
     "output_type": "execute_result"
    }
   ],
   "source": [
    "len(pattern)\n",
    "pattern[len(pattern)-1]"
   ]
  },
  {
   "cell_type": "code",
   "execution_count": 26,
   "metadata": {},
   "outputs": [
    {
     "data": {
      "text/plain": [
       "['This',\n",
       " 'is',\n",
       " 'a',\n",
       " 'test',\n",
       " '',\n",
       " 'short',\n",
       " 'and',\n",
       " 'sweet',\n",
       " '',\n",
       " 'of',\n",
       " 'split',\n",
       " '',\n",
       " '',\n",
       " '']"
      ]
     },
     "execution_count": 26,
     "metadata": {},
     "output_type": "execute_result"
    }
   ],
   "source": [
    "p = re.compile(r'\\W')\n",
    "p.split('This is a test, short and sweet, of split().')"
   ]
  },
  {
   "cell_type": "code",
   "execution_count": 35,
   "metadata": {},
   "outputs": [
    {
     "name": "stdout",
     "output_type": "stream",
     "text": [
      "{     \"report\":[         {             \"enrollment\": \"rit2011001\",             \"name\": \"Julia\",             \"subject\":[                 {                     \"code\": \"DSA\",                     \"grade\": \"A\"                 }             ]         },         {             \"enrollment\": \"rit2011020\",             \"name\": \"Samantha\",             \"subject\":[                 {                     \"code\": \"COM\",                     \"grade\": \"B\"                 },                 {                     \"code\": \"DSA\",                     \"grade\": \"A\"                 }             ]         }     ] }\n"
     ]
    }
   ],
   "source": [
    "# Enter your code here. Read input from STDIN. Print output to STDOUT\n",
    "import json\n",
    "DIC = input()\n",
    "\n",
    "DIC = json.loads(DIC)\n",
    "report = DIC['report']"
   ]
  },
  {
   "cell_type": "code",
   "execution_count": 38,
   "metadata": {},
   "outputs": [
    {
     "data": {
      "text/plain": [
       "[{'enrollment': 'rit2011001',\n",
       "  'name': 'Julia',\n",
       "  'subject': [{'code': 'DSA', 'grade': 'A'}]},\n",
       " {'enrollment': 'rit2011020',\n",
       "  'name': 'Samantha',\n",
       "  'subject': [{'code': 'COM', 'grade': 'B'}, {'code': 'DSA', 'grade': 'A'}]}]"
      ]
     },
     "execution_count": 38,
     "metadata": {},
     "output_type": "execute_result"
    }
   ],
   "source": [
    "report"
   ]
  },
  {
   "cell_type": "code",
   "execution_count": 51,
   "metadata": {},
   "outputs": [
    {
     "name": "stdout",
     "output_type": "stream",
     "text": [
      "[['DSA', 'A', 'rit2011001', 'Julia'], ['COM', 'B', 'rit2011020', 'Samantha'], ['DSA', 'A', 'rit2011020', 'Samantha']]\n",
      "['COM B rit2011020 Samantha', 'DSA A rit2011001 Julia', 'DSA A rit2011020 Samantha']\n"
     ]
    }
   ],
   "source": [
    "info = []\n",
    "for std in report:\n",
    "    for sub in std['subject']:\n",
    "        info.append([sub['code'],sub['grade'],std['enrollment'],std['name']])\n",
    "\n",
    "        \n",
    "print(info)\n",
    "info = [' '.join(val) for val in info]\n",
    "sort = info.sort()\n",
    "print(info)"
   ]
  },
  {
   "cell_type": "code",
   "execution_count": 52,
   "metadata": {},
   "outputs": [
    {
     "data": {
      "text/plain": [
       "{'report': [{'enrollment': 'rit2011001',\n",
       "   'name': 'Julia',\n",
       "   'subject': [{'code': 'DSA', 'grade': 'A'}]},\n",
       "  {'enrollment': 'rit2011020',\n",
       "   'name': 'Samantha',\n",
       "   'subject': [{'code': 'COM', 'grade': 'B'}, {'code': 'DSA', 'grade': 'A'}]}]}"
      ]
     },
     "execution_count": 52,
     "metadata": {},
     "output_type": "execute_result"
    }
   ],
   "source": [
    "{\n",
    "    \"report\":[\n",
    "        {\n",
    "            \"enrollment\": \"rit2011001\",\n",
    "            'name': \"Julia\",\n",
    "            \"subject\":[\n",
    "                {\n",
    "                    \"code\": \"DSA\",\n",
    "                    \"grade\": \"A\"\n",
    "                }\n",
    "            ]\n",
    "        },\n",
    "        {\n",
    "            \"enrollment\": \"rit2011020\",\n",
    "            \"name\": \"Samantha\",\n",
    "            \"subject\":[\n",
    "                {\n",
    "                    \"code\": \"COM\",\n",
    "                    \"grade\": \"B\"\n",
    "                },\n",
    "                {\n",
    "                    \"code\": \"DSA\",\n",
    "                    \"grade\": \"A\"\n",
    "                }\n",
    "            ]\n",
    "        }\n",
    "    ]\n",
    "}"
   ]
  },
  {
   "cell_type": "code",
   "execution_count": 57,
   "metadata": {},
   "outputs": [
    {
     "name": "stdout",
     "output_type": "stream",
     "text": [
      "{     \"report\":[         {             \"enrollment\": \"rit2011001\",             'name': \"Julia\",             \"subject\":[                 {                     \"code\": \"DSA\",                     \"grade\": \"A\"                 }             ]         },         {             \"enrollment\": \"rit2011020\",             \"name\": \"Samantha\",             \"subject\":[                 {                     \"code\": \"COM\",                     \"grade\": \"B\"                 },                 {                     \"code\": \"DSA\",                     \"grade\": \"A\"                 }             ]         }     ] }\n"
     ]
    },
    {
     "ename": "JSONDecodeError",
     "evalue": "Expecting property name enclosed in double quotes: line 1 column 80 (char 79)",
     "output_type": "error",
     "traceback": [
      "\u001b[1;31m---------------------------------------------------------------------------\u001b[0m",
      "\u001b[1;31mJSONDecodeError\u001b[0m                           Traceback (most recent call last)",
      "\u001b[1;32m<ipython-input-57-56d51dfdd27f>\u001b[0m in \u001b[0;36m<module>\u001b[1;34m()\u001b[0m\n\u001b[0;32m      4\u001b[0m \u001b[0mDIC\u001b[0m \u001b[1;33m=\u001b[0m \u001b[0minput\u001b[0m\u001b[1;33m(\u001b[0m\u001b[1;33m)\u001b[0m\u001b[1;33m\u001b[0m\u001b[0m\n\u001b[0;32m      5\u001b[0m \u001b[1;33m\u001b[0m\u001b[0m\n\u001b[1;32m----> 6\u001b[1;33m \u001b[0mDIC\u001b[0m \u001b[1;33m=\u001b[0m \u001b[0mjson\u001b[0m\u001b[1;33m.\u001b[0m\u001b[0mloads\u001b[0m\u001b[1;33m(\u001b[0m\u001b[0mDIC\u001b[0m\u001b[1;33m)\u001b[0m\u001b[1;33m\u001b[0m\u001b[0m\n\u001b[0m\u001b[0;32m      7\u001b[0m \u001b[0mreport\u001b[0m \u001b[1;33m=\u001b[0m \u001b[0mDIC\u001b[0m\u001b[1;33m[\u001b[0m\u001b[1;34m'report'\u001b[0m\u001b[1;33m]\u001b[0m\u001b[1;33m\u001b[0m\u001b[0m\n\u001b[0;32m      8\u001b[0m \u001b[1;33m\u001b[0m\u001b[0m\n",
      "\u001b[1;32m~\\Anaconda3\\lib\\json\\__init__.py\u001b[0m in \u001b[0;36mloads\u001b[1;34m(s, encoding, cls, object_hook, parse_float, parse_int, parse_constant, object_pairs_hook, **kw)\u001b[0m\n\u001b[0;32m    352\u001b[0m             \u001b[0mparse_int\u001b[0m \u001b[1;32mis\u001b[0m \u001b[1;32mNone\u001b[0m \u001b[1;32mand\u001b[0m \u001b[0mparse_float\u001b[0m \u001b[1;32mis\u001b[0m \u001b[1;32mNone\u001b[0m \u001b[1;32mand\u001b[0m\u001b[1;33m\u001b[0m\u001b[0m\n\u001b[0;32m    353\u001b[0m             parse_constant is None and object_pairs_hook is None and not kw):\n\u001b[1;32m--> 354\u001b[1;33m         \u001b[1;32mreturn\u001b[0m \u001b[0m_default_decoder\u001b[0m\u001b[1;33m.\u001b[0m\u001b[0mdecode\u001b[0m\u001b[1;33m(\u001b[0m\u001b[0ms\u001b[0m\u001b[1;33m)\u001b[0m\u001b[1;33m\u001b[0m\u001b[0m\n\u001b[0m\u001b[0;32m    355\u001b[0m     \u001b[1;32mif\u001b[0m \u001b[0mcls\u001b[0m \u001b[1;32mis\u001b[0m \u001b[1;32mNone\u001b[0m\u001b[1;33m:\u001b[0m\u001b[1;33m\u001b[0m\u001b[0m\n\u001b[0;32m    356\u001b[0m         \u001b[0mcls\u001b[0m \u001b[1;33m=\u001b[0m \u001b[0mJSONDecoder\u001b[0m\u001b[1;33m\u001b[0m\u001b[0m\n",
      "\u001b[1;32m~\\Anaconda3\\lib\\json\\decoder.py\u001b[0m in \u001b[0;36mdecode\u001b[1;34m(self, s, _w)\u001b[0m\n\u001b[0;32m    337\u001b[0m \u001b[1;33m\u001b[0m\u001b[0m\n\u001b[0;32m    338\u001b[0m         \"\"\"\n\u001b[1;32m--> 339\u001b[1;33m         \u001b[0mobj\u001b[0m\u001b[1;33m,\u001b[0m \u001b[0mend\u001b[0m \u001b[1;33m=\u001b[0m \u001b[0mself\u001b[0m\u001b[1;33m.\u001b[0m\u001b[0mraw_decode\u001b[0m\u001b[1;33m(\u001b[0m\u001b[0ms\u001b[0m\u001b[1;33m,\u001b[0m \u001b[0midx\u001b[0m\u001b[1;33m=\u001b[0m\u001b[0m_w\u001b[0m\u001b[1;33m(\u001b[0m\u001b[0ms\u001b[0m\u001b[1;33m,\u001b[0m \u001b[1;36m0\u001b[0m\u001b[1;33m)\u001b[0m\u001b[1;33m.\u001b[0m\u001b[0mend\u001b[0m\u001b[1;33m(\u001b[0m\u001b[1;33m)\u001b[0m\u001b[1;33m)\u001b[0m\u001b[1;33m\u001b[0m\u001b[0m\n\u001b[0m\u001b[0;32m    340\u001b[0m         \u001b[0mend\u001b[0m \u001b[1;33m=\u001b[0m \u001b[0m_w\u001b[0m\u001b[1;33m(\u001b[0m\u001b[0ms\u001b[0m\u001b[1;33m,\u001b[0m \u001b[0mend\u001b[0m\u001b[1;33m)\u001b[0m\u001b[1;33m.\u001b[0m\u001b[0mend\u001b[0m\u001b[1;33m(\u001b[0m\u001b[1;33m)\u001b[0m\u001b[1;33m\u001b[0m\u001b[0m\n\u001b[0;32m    341\u001b[0m         \u001b[1;32mif\u001b[0m \u001b[0mend\u001b[0m \u001b[1;33m!=\u001b[0m \u001b[0mlen\u001b[0m\u001b[1;33m(\u001b[0m\u001b[0ms\u001b[0m\u001b[1;33m)\u001b[0m\u001b[1;33m:\u001b[0m\u001b[1;33m\u001b[0m\u001b[0m\n",
      "\u001b[1;32m~\\Anaconda3\\lib\\json\\decoder.py\u001b[0m in \u001b[0;36mraw_decode\u001b[1;34m(self, s, idx)\u001b[0m\n\u001b[0;32m    353\u001b[0m         \"\"\"\n\u001b[0;32m    354\u001b[0m         \u001b[1;32mtry\u001b[0m\u001b[1;33m:\u001b[0m\u001b[1;33m\u001b[0m\u001b[0m\n\u001b[1;32m--> 355\u001b[1;33m             \u001b[0mobj\u001b[0m\u001b[1;33m,\u001b[0m \u001b[0mend\u001b[0m \u001b[1;33m=\u001b[0m \u001b[0mself\u001b[0m\u001b[1;33m.\u001b[0m\u001b[0mscan_once\u001b[0m\u001b[1;33m(\u001b[0m\u001b[0ms\u001b[0m\u001b[1;33m,\u001b[0m \u001b[0midx\u001b[0m\u001b[1;33m)\u001b[0m\u001b[1;33m\u001b[0m\u001b[0m\n\u001b[0m\u001b[0;32m    356\u001b[0m         \u001b[1;32mexcept\u001b[0m \u001b[0mStopIteration\u001b[0m \u001b[1;32mas\u001b[0m \u001b[0merr\u001b[0m\u001b[1;33m:\u001b[0m\u001b[1;33m\u001b[0m\u001b[0m\n\u001b[0;32m    357\u001b[0m             \u001b[1;32mraise\u001b[0m \u001b[0mJSONDecodeError\u001b[0m\u001b[1;33m(\u001b[0m\u001b[1;34m\"Expecting value\"\u001b[0m\u001b[1;33m,\u001b[0m \u001b[0ms\u001b[0m\u001b[1;33m,\u001b[0m \u001b[0merr\u001b[0m\u001b[1;33m.\u001b[0m\u001b[0mvalue\u001b[0m\u001b[1;33m)\u001b[0m \u001b[1;32mfrom\u001b[0m \u001b[1;32mNone\u001b[0m\u001b[1;33m\u001b[0m\u001b[0m\n",
      "\u001b[1;31mJSONDecodeError\u001b[0m: Expecting property name enclosed in double quotes: line 1 column 80 (char 79)"
     ]
    }
   ],
   "source": [
    "# Enter your code here. Read input from STDIN. Print output to STDOUT\n",
    "\n",
    "import json\n",
    "DIC = input()\n",
    "\n",
    "DIC = json.loads(DIC)\n",
    "report = DIC['report']\n",
    "\n",
    "info = []\n",
    "for std in report:\n",
    "    for sub in std['subject']:\n",
    "        info.append([sub['code'],sub['grade'],std['enrollment'],std['name']])\n",
    "\n",
    "info = [' '.join(val) for val in info]\n",
    "sort = info.sort()\n",
    "for val in info:\n",
    "    print(val)"
   ]
  },
  {
   "cell_type": "code",
   "execution_count": 109,
   "metadata": {},
   "outputs": [],
   "source": [
    "from sys import version\n",
    "import random"
   ]
  },
  {
   "cell_type": "code",
   "execution_count": 55,
   "metadata": {},
   "outputs": [
    {
     "name": "stdout",
     "output_type": "stream",
     "text": [
      "3.6.5 |Anaconda, Inc.| (default, Mar 29 2018, 13:32:41) [MSC v.1900 64 bit (AMD64)]\n"
     ]
    }
   ],
   "source": [
    "print(version)"
   ]
  },
  {
   "cell_type": "code",
   "execution_count": 110,
   "metadata": {},
   "outputs": [],
   "source": [
    "\n",
    "class URL_Shortener:\n",
    "    # suppose, we already have 10 billion urls\n",
    "    id = 10000000000\n",
    "    # store url to id in order not to have duplicated url with different id\n",
    "    \n",
    "    def shorten_url(self, original_urls):\n",
    "        # store url2id in order not to have duplicated url with different id in the future\n",
    "        shorten_urls = self.encode(self.id)\n",
    "        # increase cnt for next url\n",
    "        self.id += 1\n",
    "        return \"http:/sprng.brd/\"+shorten_urls\n",
    "\n",
    "    def encode(self, id):\n",
    "        # base 62 characters\n",
    "        characters = \"0123456789abcdefghijklmnopqrstuvwxyzABCDEFGHIJKLMNOPQRSTUVWXYZ\"\n",
    "        base = len(characters)\n",
    "        ret = []\n",
    "        for _ in range(6):\n",
    "            val = random.randint(0,len(characters)-1)\n",
    "            ret.append(characters[val])\n",
    "        return ''.join(ret)\n"
   ]
  },
  {
   "cell_type": "code",
   "execution_count": 111,
   "metadata": {},
   "outputs": [],
   "source": [
    "short = URL_Shortener()"
   ]
  },
  {
   "cell_type": "code",
   "execution_count": 112,
   "metadata": {},
   "outputs": [
    {
     "name": "stdout",
     "output_type": "stream",
     "text": [
      "h\n",
      "t\n",
      "t\n",
      "p\n",
      ":\n",
      "/\n",
      "s\n",
      "p\n",
      "r\n",
      "n\n",
      "g\n",
      ".\n",
      "b\n",
      "r\n",
      "d\n",
      "/\n",
      "U\n",
      "Y\n",
      "q\n",
      "1\n",
      "x\n",
      "6\n",
      "h\n",
      "t\n",
      "t\n",
      "p\n",
      ":\n",
      "/\n",
      "s\n",
      "p\n",
      "r\n",
      "n\n",
      "g\n",
      ".\n",
      "b\n",
      "r\n",
      "d\n",
      "/\n",
      "E\n",
      "h\n",
      "6\n",
      "a\n",
      "8\n",
      "u\n",
      "h\n",
      "t\n",
      "t\n",
      "p\n",
      ":\n",
      "/\n",
      "s\n",
      "p\n",
      "r\n",
      "n\n",
      "g\n",
      ".\n",
      "b\n",
      "r\n",
      "d\n",
      "/\n",
      "K\n",
      "8\n",
      "4\n",
      "z\n",
      "i\n",
      "b\n",
      "h\n",
      "t\n",
      "t\n",
      "p\n",
      ":\n",
      "/\n",
      "s\n",
      "p\n",
      "r\n",
      "n\n",
      "g\n",
      ".\n",
      "b\n",
      "r\n",
      "d\n",
      "/\n",
      "e\n",
      "r\n",
      "R\n",
      "M\n",
      "t\n",
      "C\n",
      "h\n",
      "t\n",
      "t\n",
      "p\n",
      ":\n",
      "/\n",
      "s\n",
      "p\n",
      "r\n",
      "n\n",
      "g\n",
      ".\n",
      "b\n",
      "r\n",
      "d\n",
      "/\n",
      "J\n",
      "g\n",
      "M\n",
      "W\n",
      "m\n",
      "W\n"
     ]
    }
   ],
   "source": [
    "val = '''https://docs.python.org/2/library/re.html#match-objects\n",
    "https://github.com/deeppomf/DeepCreamPy/blob/master/readme_images/\n",
    "https://docs.python.org/2/library/re.html#match-objects\n",
    "https://github.com/deeppomf/DeepCreamPy/blob/master/readme_images\n",
    "'''\n",
    "for _ in range(5):\n",
    "    for a in short.shorten_url(val):\n",
    "        print(a)"
   ]
  },
  {
   "cell_type": "code",
   "execution_count": 113,
   "metadata": {},
   "outputs": [
    {
     "data": {
      "text/plain": [
       "['https://docs.python.org/2/library/re.html#match-objects',\n",
       " 'https://github.com/deeppomf/DeepCreamPy/blob/master/readme_images/',\n",
       " 'https://docs.python.org/2/library/re.html#match-objects',\n",
       " 'https://github.com/deeppomf/DeepCreamPy/blob/master/readme_images',\n",
       " '']"
      ]
     },
     "execution_count": 113,
     "metadata": {},
     "output_type": "execute_result"
    }
   ],
   "source": [
    "re.compile(r'\\s').split(val)"
   ]
  },
  {
   "cell_type": "code",
   "execution_count": 117,
   "metadata": {},
   "outputs": [
    {
     "name": "stdout",
     "output_type": "stream",
     "text": [
      "http:/sprng.brd/q3kAlk\n",
      "http:/sprng.brd/P6qyDL\n",
      "http:/sprng.brd/TDI607\n",
      "http:/sprng.brd/HVGfHt\n"
     ]
    }
   ],
   "source": [
    "for url in re.compile(r'\\s').split(val):\n",
    "    if url != '':\n",
    "        print(short.shorten_url(url))"
   ]
  },
  {
   "cell_type": "code",
   "execution_count": null,
   "metadata": {},
   "outputs": [],
   "source": []
  }
 ],
 "metadata": {
  "kernelspec": {
   "display_name": "Python 3",
   "language": "python",
   "name": "python3"
  },
  "language_info": {
   "codemirror_mode": {
    "name": "ipython",
    "version": 3
   },
   "file_extension": ".py",
   "mimetype": "text/x-python",
   "name": "python",
   "nbconvert_exporter": "python",
   "pygments_lexer": "ipython3",
   "version": "3.6.5"
  }
 },
 "nbformat": 4,
 "nbformat_minor": 2
}
