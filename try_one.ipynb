{
 "cells": [
  {
   "cell_type": "code",
   "execution_count": 36,
   "metadata": {},
   "outputs": [
    {
     "name": "stdout",
     "output_type": "stream",
     "text": [
      " phase I\n",
      " Phase III\n",
      " phase I\n",
      " Phase III\n",
      " What phase is running ?\n",
      " Phase II\n",
      " yay i figured it out\n",
      "3.0 4.3\n"
     ]
    }
   ],
   "source": [
    "from inspect import Signature, Parameter\n",
    "\n",
    "def r_dataclass(cls):\n",
    "    # grab the annotation dict\n",
    "    ann = cls.__annotations__\n",
    "    # make a signature out of the keys of annotation dict\n",
    "    signature = Signature([Parameter(field, Parameter.POSITIONAL_OR_KEYWORD) for field in ann])\n",
    "    # define __init__ that is injected \n",
    "    print(\" phase I\")\n",
    "    dota = \" yay i figured it out\"\n",
    "    def __init__(self, *args, **kwargs):\n",
    "\t\t#bind the signature to arguments of constructor\n",
    "        print(\" Phase II\")\n",
    "        print(dota)\n",
    "        bounded = signature.bind(*args, **kwargs)\n",
    "        for key, val in bounded.arguments.items():\n",
    "\t\t\t# set the key and value in the instance of give class \n",
    "            setattr(self, key, val)\n",
    "    setattr(cls, '__init__', __init__)\n",
    "    print(\" Phase III\")\n",
    "    return cls\n",
    "\n",
    "# the way you use it\n",
    "@r_dataclass\n",
    "class Vector:\n",
    "  x: float\n",
    "  y: float\n",
    "\n",
    "@r_dataclass\n",
    "class Person:\n",
    "  name: str\n",
    "  age: int\n",
    "\n",
    "\n",
    "if __name__ == '__main__':\n",
    "    print( \" What phase is running ?\")\n",
    "    v = Vector(3.0, 4.3)\n",
    "    print(v.x, v.y)\n"
   ]
  },
  {
   "cell_type": "code",
   "execution_count": 29,
   "metadata": {},
   "outputs": [],
   "source": [
    "class retroFit:\n",
    "    x: float\n",
    "    y = 't'"
   ]
  },
  {
   "cell_type": "code",
   "execution_count": 24,
   "metadata": {},
   "outputs": [
    {
     "data": {
      "text/plain": [
       "8.77"
      ]
     },
     "execution_count": 24,
     "metadata": {},
     "output_type": "execute_result"
    }
   ],
   "source": [
    "ret = retroFit\n",
    "ret.x = 8.77\n",
    "ret.x"
   ]
  },
  {
   "cell_type": "code",
   "execution_count": 30,
   "metadata": {},
   "outputs": [
    {
     "data": {
      "text/plain": [
       "{'x': float}"
      ]
     },
     "execution_count": 30,
     "metadata": {},
     "output_type": "execute_result"
    }
   ],
   "source": [
    "ann = retroFit.__annotations__\n",
    "ann"
   ]
  },
  {
   "cell_type": "code",
   "execution_count": 9,
   "metadata": {},
   "outputs": [
    {
     "data": {
      "text/plain": [
       "<Signature (x, y)>"
      ]
     },
     "execution_count": 9,
     "metadata": {},
     "output_type": "execute_result"
    }
   ],
   "source": [
    "signature = Signature([Parameter(field, Parameter.POSITIONAL_OR_KEYWORD) for field in ann])\n",
    "signature"
   ]
  },
  {
   "cell_type": "code",
   "execution_count": 16,
   "metadata": {},
   "outputs": [
    {
     "name": "stdout",
     "output_type": "stream",
     "text": [
      "1 2 3\n",
      "3\n",
      "8\n",
      "0\n"
     ]
    }
   ],
   "source": [
    "def outer_decorator(*outer_args,**outer_kwargs):                            \n",
    "    def decorator(fn):                                            \n",
    "        def decorated(*args,**kwargs):                            \n",
    "            print(*outer_args,**outer_kwargs)                      \n",
    "            return fn(*args,**kwargs)                         \n",
    "        return decorated                                          \n",
    "    return decorator       \n",
    "    \n",
    "@outer_decorator(1,2,3)\n",
    "def foo(a,b,c):\n",
    "    print (a)\n",
    "    print (b)\n",
    "    print (c)\n",
    "\n",
    "\n",
    "foo(3,8,0)"
   ]
  },
  {
   "cell_type": "code",
   "execution_count": 20,
   "metadata": {},
   "outputs": [
    {
     "name": "stdout",
     "output_type": "stream",
     "text": [
      "decorating\n",
      "starting timer\n",
      "entering a\n",
      "exiting a\n",
      "Elapsed Time = 0:00:03.000282\n"
     ]
    }
   ],
   "source": [
    "def time_this(original_function):      \n",
    "    print (\"decorating\")                      \n",
    "    def new_function(*args,**kwargs):\n",
    "        print (\"starting timer\")       \n",
    "        import datetime                 \n",
    "        before = datetime.datetime.now()                     \n",
    "        x = original_function(*args,**kwargs)                \n",
    "        after = datetime.datetime.now()                      \n",
    "        print (\"Elapsed Time = {0}\".format(after-before))      \n",
    "        return x                                             \n",
    "    return new_function  \n",
    "\n",
    "def time_all_class_methods(Cls):\n",
    "    class NewCls(object):\n",
    "        def __init__(self,*args,**kwargs):\n",
    "            self.oInstance = Cls(*args,**kwargs)\n",
    "        def __getattribute__(self,s):\n",
    "            \"\"\"\n",
    "            this is called whenever any attribute of a NewCls object is accessed. This function first tries to \n",
    "            get the attribute off NewCls. If it fails then it tries to fetch the attribute from self.oInstance (an\n",
    "            instance of the decorated class). If it manages to fetch the attribute from self.oInstance, and \n",
    "            the attribute is an instance method then `time_this` is applied.\n",
    "            \"\"\"\n",
    "            try:    \n",
    "                x = super(NewCls,self).__getattribute__(s)\n",
    "            except AttributeError:      \n",
    "                pass\n",
    "            else:\n",
    "                return x\n",
    "            x = self.oInstance.__getattribute__(s)\n",
    "            if type(x) == type(self.__init__): # it is an instance method\n",
    "                return time_this(x)                 # this is equivalent of just decorating the method with time_this\n",
    "            else:\n",
    "                return x\n",
    "    return NewCls\n",
    "\n",
    "#now lets make a dummy class to test it out on:\n",
    "\n",
    "@time_all_class_methods\n",
    "class Foo(object):\n",
    "    def a(self):\n",
    "        print (\"entering a\")\n",
    "        import time\n",
    "        time.sleep(3)\n",
    "        print (\"exiting a\")\n",
    "\n",
    "oF = Foo()\n",
    "oF.a()"
   ]
  },
  {
   "cell_type": "code",
   "execution_count": 1,
   "metadata": {},
   "outputs": [
    {
     "name": "stdout",
     "output_type": "stream",
     "text": [
      "Do you need the answer? (y/n): y\n",
      "Philosopher1\n",
      "Philosopher2\n",
      "Philosopher3\n",
      "42\n",
      "42\n"
     ]
    }
   ],
   "source": [
    "x = input(\"Do you need the answer? (y/n): \")\n",
    "if x.lower() == \"y\":\n",
    "    required = True\n",
    "else:\n",
    "    required = False\n",
    "    \n",
    "def the_answer(self, *args):              \n",
    "        return 42\n",
    "    \n",
    "class EssentialAnswers(type):\n",
    "    \n",
    "    def __init__(cls, clsname, superclasses, attributedict):\n",
    "        if required:\n",
    "            print(clsname)\n",
    "            cls.the_answer = the_answer\n",
    "                           \n",
    "    \n",
    "class Philosopher1(metaclass=EssentialAnswers): \n",
    "    pass\n",
    "class Philosopher2(metaclass=EssentialAnswers): \n",
    "    pass\n",
    "class Philosopher3(metaclass=EssentialAnswers): \n",
    "    pass\n",
    "    \n",
    "    \n",
    "plato = Philosopher1()\n",
    "print(plato.the_answer())\n",
    "kant = Philosopher2()\n",
    "# let's see what Kant has to say :-)\n",
    "print(kant.the_answer())"
   ]
  },
  {
   "cell_type": "code",
   "execution_count": null,
   "metadata": {},
   "outputs": [],
   "source": []
  }
 ],
 "metadata": {
  "kernelspec": {
   "display_name": "Python 3",
   "language": "python",
   "name": "python3"
  },
  "language_info": {
   "codemirror_mode": {
    "name": "ipython",
    "version": 3
   },
   "file_extension": ".py",
   "mimetype": "text/x-python",
   "name": "python",
   "nbconvert_exporter": "python",
   "pygments_lexer": "ipython3",
   "version": "3.6.5"
  }
 },
 "nbformat": 4,
 "nbformat_minor": 2
}
