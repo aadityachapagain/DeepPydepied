{
 "cells": [
  {
   "cell_type": "code",
   "execution_count": 1,
   "metadata": {},
   "outputs": [],
   "source": [
    "# ########################################################################## #\n",
    "# ++++++++++++++++++++++++++++++ EXPERIMENTAL  +++++++++++++++++++++++++++++ #\n",
    "# ########################################################################## #"
   ]
  },
  {
   "cell_type": "code",
   "execution_count": 3,
   "metadata": {},
   "outputs": [],
   "source": [
    "# i was always fasinated by the dynamicness of python unlike java which is statically typed \n",
    "# and needs high degree of complexity of code to achieve the dynamicness of python\n",
    "# but no one should judge both they are their own pros and cons\n",
    "# \n",
    "# so here today i m trying to create the fucntion dynamically during runtime \n",
    "# which i was abvously inspired by java which i did few years back\n",
    "# \n",
    "# just a fun stuff to kill time :D "
   ]
  },
  {
   "cell_type": "code",
   "execution_count": 4,
   "metadata": {},
   "outputs": [],
   "source": [
    "# lets achieve our goal here generically considaring all learner out there dont have python 3\n",
    "# so that this code will work in any python version"
   ]
  },
  {
   "cell_type": "code",
   "execution_count": 6,
   "metadata": {},
   "outputs": [],
   "source": [
    "# import print_function from python builtin module __future__ to avoid any python versioning error\n",
    "from __future__ import print_function\n",
    "\n",
    "# import sys module so that we would know the version of python the program is running\n",
    "import sys\n",
    "\n",
    "# follow the pep rule which say packages and modules used throughout the program should be put at top of .py file\n",
    "# and modules of same origin must be placed closly packed together in a namespace"
   ]
  },
  {
   "cell_type": "code",
   "execution_count": 8,
   "metadata": {},
   "outputs": [
    {
     "name": "stdout",
     "output_type": "stream",
     "text": [
      "Enter name of function to create dynamically: duel\n",
      "duel : <function duel at 0x00000212C93390D0>\n",
      "\n",
      " calling duel via eval():\n",
      "In function duel : args: (1, 'a')\n",
      "\n",
      " calling duel via globals() dict:\n",
      "In function duel : args: (2, 'b')\n"
     ]
    }
   ],
   "source": [
    "ver = sys.version_info.major\n",
    "if ver == 2:\n",
    "    input_func = raw_input\n",
    "elif ver == 3:\n",
    "    input_func = input\n",
    "else:\n",
    "    print(\"Unsupported version, go back to the future.\")\n",
    "#     sys.exit(0)\n",
    "\n",
    "\n",
    "func_name = input_func(\"Enter name of function to create dynamically: \")\n",
    "\n",
    "# multiline comment to create string of fucntion defination\n",
    "func_def = \"\"\"\n",
    "def {}(args):\n",
    "    print(\"In function\", func_name, \": args:\", args)\n",
    "    \"\"\".format(func_name)\n",
    "\n",
    "exec(func_def)\n",
    "print(func_name, \":\", eval(func_name))\n",
    "\n",
    "args1, args2 = (1,'a'), (2,'b')\n",
    "\n",
    "# now two ways of calling dynamically created function \n",
    "\n",
    "print('\\n calling {} via eval():'.format(func_name))\n",
    "eval(func_name+ \"(args1)\")\n",
    "print('\\n calling {} via globals() dict:'.format(func_name))\n",
    "globals()[func_name](args2)\n",
    "\n",
    "# and Bazinga !! looks its  more easy to dynamically create the function in python than java\n",
    "# well incase of java i think java herself is hard to learn language ,my opinion tho no offence :D"
   ]
  },
  {
   "cell_type": "code",
   "execution_count": 9,
   "metadata": {},
   "outputs": [],
   "source": [
    "# so dynamically creating the function was eZ job next time lets aim bigger\n",
    "# why not dynamically inject fucntion to class having fucntion name inputby user programatically "
   ]
  },
  {
   "cell_type": "code",
   "execution_count": null,
   "metadata": {},
   "outputs": [],
   "source": []
  }
 ],
 "metadata": {
  "kernelspec": {
   "display_name": "Python 3",
   "language": "python",
   "name": "python3"
  },
  "language_info": {
   "codemirror_mode": {
    "name": "ipython",
    "version": 3
   },
   "file_extension": ".py",
   "mimetype": "text/x-python",
   "name": "python",
   "nbconvert_exporter": "python",
   "pygments_lexer": "ipython3",
   "version": "3.6.5"
  }
 },
 "nbformat": 4,
 "nbformat_minor": 2
}
